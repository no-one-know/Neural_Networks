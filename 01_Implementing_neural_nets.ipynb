{
 "cells": [
  {
   "cell_type": "code",
   "execution_count": 29,
   "metadata": {},
   "outputs": [],
   "source": [
    "import numpy as np\n",
    "import pandas as pd\n",
    "import matplotlib.pyplot as plt\n",
    "import seaborn as sns\n",
    "import tensorflow as tf\n",
    "%matplotlib inline"
   ]
  },
  {
   "cell_type": "markdown",
   "metadata": {},
   "source": [
    "* Hyperparameters\n",
    "1. Input Layer Size->Same shape as number of features\n",
    "2. Hidden Layer->Problem specific\n",
    "3. Neuron Per hidden layer->probelm specific\n",
    "4. Output layer shape->same as desired prediction shape\n",
    "5. Hidden activation->ReLU\n",
    "6. Output activation->None,ReLU,Logistic/tanh\n",
    "7. Loss function->MSE,MAE,Huber\n",
    "8. Optimizer->SGD,Adam"
   ]
  },
  {
   "cell_type": "code",
   "execution_count": 30,
   "metadata": {},
   "outputs": [],
   "source": [
    "#introduction to Regression with neural networks in tensorflow\n",
    "X=np.array([1.,3.,5.,7.,9.,10.,12.,15.,17.,19.,21.,23.,26.,31.])\n",
    "y=np.array([5.,7.,9.,11.,13.,16.,19.,21.,24.,26.,28.,31.,35.,37.])"
   ]
  },
  {
   "cell_type": "code",
   "execution_count": 31,
   "metadata": {},
   "outputs": [
    {
     "data": {
      "text/plain": [
       "<matplotlib.collections.PathCollection at 0x23740871190>"
      ]
     },
     "execution_count": 31,
     "metadata": {},
     "output_type": "execute_result"
    },
    {
     "data": {
      "image/png": "[encoded data removed]",
      "text/plain": [
       "<Figure size 432x288 with 1 Axes>"
      ]
     },
     "metadata": {
      "needs_background": "light"
     },
     "output_type": "display_data"
    }
   ],
   "source": [
    "plt.scatter(X,y)"
   ]
  },
  {
   "cell_type": "code",
   "execution_count": 32,
   "metadata": {},
   "outputs": [
    {
     "data": {
      "text/plain": [
       "array([ True,  True,  True,  True,  True, False, False, False, False,\n",
       "       False, False, False, False, False])"
      ]
     },
     "execution_count": 32,
     "metadata": {},
     "output_type": "execute_result"
    }
   ],
   "source": [
    "y==X+4"
   ]
  },
  {
   "cell_type": "markdown",
   "metadata": {},
   "source": [
    "* Input and Output Shapes"
   ]
  },
  {
   "cell_type": "code",
   "execution_count": 33,
   "metadata": {},
   "outputs": [
    {
     "data": {
      "text/plain": [
       "(<tf.Tensor: shape=(3,), dtype=string, numpy=array([b'bedroom', b'bathroom', b'garage'], dtype=object)>,\n",
       " <tf.Tensor: shape=(1,), dtype=int32, numpy=array([939700])>)"
      ]
     },
     "execution_count": 33,
     "metadata": {},
     "output_type": "execute_result"
    }
   ],
   "source": [
    "#create a demo tensor for our housing price prediction problem\n",
    "house_info=tf.constant(['bedroom','bathroom','garage'])\n",
    "house_price=tf.constant([939700])\n",
    "house_info,house_price"
   ]
  },
  {
   "cell_type": "code",
   "execution_count": 34,
   "metadata": {},
   "outputs": [
    {
     "data": {
      "text/plain": [
       "((14,), (14,))"
      ]
     },
     "execution_count": 34,
     "metadata": {},
     "output_type": "execute_result"
    }
   ],
   "source": [
    "input_shape=X.shape\n",
    "output_shape=y.shape\n",
    "input_shape,output_shape"
   ]
  },
  {
   "cell_type": "code",
   "execution_count": 35,
   "metadata": {},
   "outputs": [
    {
     "data": {
      "text/plain": [
       "(<tf.Tensor: shape=(14,), dtype=float32, numpy=\n",
       " array([ 1.,  3.,  5.,  7.,  9., 10., 12., 15., 17., 19., 21., 23., 26.,\n",
       "        31.], dtype=float32)>,\n",
       " <tf.Tensor: shape=(14,), dtype=float32, numpy=\n",
       " array([ 5.,  7.,  9., 11., 13., 16., 19., 21., 24., 26., 28., 31., 35.,\n",
       "        37.], dtype=float32)>)"
      ]
     },
     "execution_count": 35,
     "metadata": {},
     "output_type": "execute_result"
    }
   ],
   "source": [
    "#Turn our Numpy arrays into tensors\n",
    "X=tf.cast(tf.constant(X),dtype=tf.float32)\n",
    "y=tf.cast(tf.constant(y),dtype=tf.float32)\n",
    "X,y"
   ]
  },
  {
   "cell_type": "code",
   "execution_count": 36,
   "metadata": {},
   "outputs": [
    {
     "data": {
      "text/plain": [
       "(TensorShape([]), TensorShape([]))"
      ]
     },
     "execution_count": 36,
     "metadata": {},
     "output_type": "execute_result"
    }
   ],
   "source": [
    "input_shape=X[0].shape\n",
    "output_shape=y[0].shape\n",
    "input_shape,output_shape"
   ]
  },
  {
   "cell_type": "code",
   "execution_count": 37,
   "metadata": {},
   "outputs": [
    {
     "data": {
      "text/plain": [
       "<matplotlib.collections.PathCollection at 0x237408f6c70>"
      ]
     },
     "execution_count": 37,
     "metadata": {},
     "output_type": "execute_result"
    },
    {
     "data": {
      "image/png": "[encoded data removed]",
      "text/plain": [
       "<Figure size 432x288 with 1 Axes>"
      ]
     },
     "metadata": {
      "needs_background": "light"
     },
     "output_type": "display_data"
    }
   ],
   "source": [
    "plt.scatter(X,y)"
   ]
  },
  {
   "cell_type": "markdown",
   "metadata": {},
   "source": [
    "### Steps in modelling with Tensorflow\n",
    "1. creating a model->define the input and output layers,as well as the hidden layers of a \n",
    "    deep learning model.\n",
    "2. Compiling a model->define the loss function (in other words ,the function which tells \n",
    "    our model how wrong it is) and the optimizer (tells our model how to improve the pattern)\n",
    "    and evaluation mertics (what we can use to interpret the performance of our model).\n",
    "3. Fitting a model->letting the model try to find patterns between X and y(features and labels)\n"
   ]
  },
  {
   "cell_type": "code",
   "execution_count": 38,
   "metadata": {},
   "outputs": [
    {
     "name": "stdout",
     "output_type": "stream",
     "text": [
      "Epoch 1/5\n",
      "1/1 [==============================] - 1s 814ms/step - loss: 37.4253 - mae: 37.4253\n",
      "Epoch 2/5\n",
      "1/1 [==============================] - 0s 7ms/step - loss: 35.3948 - mae: 35.3948\n",
      "Epoch 3/5\n",
      "1/1 [==============================] - 0s 9ms/step - loss: 33.3644 - mae: 33.3644\n",
      "Epoch 4/5\n",
      "1/1 [==============================] - 0s 10ms/step - loss: 31.3339 - mae: 31.3339\n",
      "Epoch 5/5\n",
      "1/1 [==============================] - 0s 9ms/step - loss: 29.3035 - mae: 29.3035\n"
     ]
    },
    {
     "data": {
      "text/plain": [
       "<keras.callbacks.History at 0x23740959fd0>"
      ]
     },
     "execution_count": 38,
     "metadata": {},
     "output_type": "execute_result"
    }
   ],
   "source": [
    "#Set random seed\n",
    "tf.random.set_seed(42)\n",
    "\n",
    "#1.creating a model using sequential API\n",
    "model=tf.keras.Sequential([\n",
    "    tf.keras.layers.Dense(1)\n",
    "])\n",
    "\n",
    "#2.compiling the model\n",
    "model.compile(\n",
    "    loss=tf.keras.losses.mae,\n",
    "    optimizer=tf.keras.optimizers.SGD(),\n",
    "    metrics=[\"mae\"]\n",
    ")\n",
    "\n",
    "#3. Fit the model\n",
    "model.fit(tf.expand_dims(X, axis=-1), y, epochs=5)"
   ]
  },
  {
   "cell_type": "code",
   "execution_count": 39,
   "metadata": {},
   "outputs": [
    {
     "name": "stdout",
     "output_type": "stream",
     "text": [
      "1/1 [==============================] - 0s 160ms/step\n"
     ]
    },
    {
     "data": {
      "text/plain": [
       "array([[-8.537318]], dtype=float32)"
      ]
     },
     "execution_count": 39,
     "metadata": {},
     "output_type": "execute_result"
    }
   ],
   "source": [
    "#Try and make a prediction using our model\n",
    "model.predict([17.0])"
   ]
  },
  {
   "cell_type": "markdown",
   "metadata": {},
   "source": [
    "# Improving our model"
   ]
  },
  {
   "cell_type": "markdown",
   "metadata": {},
   "source": [
    "* we can improve our model, by altering the steps we took to create a model\n",
    "1. Creating a model->here we might add more layers,increase the number of hidden units(all\n",
    "    called neurons) within each of the hidden layers,change the activation function of \n",
    "    each layer.\n",
    "2. Compiling a model->here we might change the optimization function or perhaps the \n",
    "    learning rate of the optimization function.\n",
    "3. Fitting a model->here we might fit a model for more epochs(leave it training for longer),\n",
    "    or on more data(give the model more examples to learn from)"
   ]
  },
  {
   "cell_type": "code",
   "execution_count": 40,
   "metadata": {},
   "outputs": [
    {
     "name": "stdout",
     "output_type": "stream",
     "text": [
      "Epoch 1/100\n",
      "1/1 [==============================] - 1s 1s/step - loss: 20.1243 - mae: 20.1243\n",
      "Epoch 2/100\n",
      "1/1 [==============================] - 0s 10ms/step - loss: 19.9162 - mae: 19.9162\n",
      "Epoch 3/100\n",
      "1/1 [==============================] - 0s 14ms/step - loss: 19.7078 - mae: 19.7078\n",
      "Epoch 4/100\n",
      "1/1 [==============================] - 0s 9ms/step - loss: 19.4978 - mae: 19.4978\n",
      "Epoch 5/100\n",
      "1/1 [==============================] - 0s 9ms/step - loss: 19.2891 - mae: 19.2891\n",
      "Epoch 6/100\n",
      "1/1 [==============================] - 0s 7ms/step - loss: 19.0795 - mae: 19.0795\n",
      "Epoch 7/100\n",
      "1/1 [==============================] - 0s 7ms/step - loss: 18.8697 - mae: 18.8697\n",
      "Epoch 8/100\n",
      "1/1 [==============================] - 0s 9ms/step - loss: 18.6612 - mae: 18.6612\n",
      "Epoch 9/100\n",
      "1/1 [==============================] - 0s 8ms/step - loss: 18.4634 - mae: 18.4634\n",
      "Epoch 10/100\n",
      "1/1 [==============================] - 0s 11ms/step - loss: 18.2653 - mae: 18.2653\n",
      "Epoch 11/100\n",
      "1/1 [==============================] - 0s 10ms/step - loss: 18.0625 - mae: 18.0625\n",
      "Epoch 12/100\n",
      "1/1 [==============================] - 0s 9ms/step - loss: 17.8564 - mae: 17.8564\n",
      "Epoch 13/100\n",
      "1/1 [==============================] - 0s 8ms/step - loss: 17.6470 - mae: 17.6470\n",
      "Epoch 14/100\n",
      "1/1 [==============================] - 0s 7ms/step - loss: 17.4358 - mae: 17.4358\n",
      "Epoch 15/100\n",
      "1/1 [==============================] - 0s 9ms/step - loss: 17.2223 - mae: 17.2223\n",
      "Epoch 16/100\n",
      "1/1 [==============================] - 0s 9ms/step - loss: 17.0064 - mae: 17.0064\n",
      "Epoch 17/100\n",
      "1/1 [==============================] - 0s 9ms/step - loss: 16.7900 - mae: 16.7900\n",
      "Epoch 18/100\n",
      "1/1 [==============================] - 0s 7ms/step - loss: 16.5700 - mae: 16.5700\n",
      "Epoch 19/100\n",
      "1/1 [==============================] - 0s 7ms/step - loss: 16.3436 - mae: 16.3436\n",
      "Epoch 20/100\n",
      "1/1 [==============================] - 0s 8ms/step - loss: 16.1115 - mae: 16.1115\n",
      "Epoch 21/100\n",
      "1/1 [==============================] - 0s 9ms/step - loss: 15.8740 - mae: 15.8740\n",
      "Epoch 22/100\n",
      "1/1 [==============================] - 0s 9ms/step - loss: 15.6313 - mae: 15.6313\n",
      "Epoch 23/100\n",
      "1/1 [==============================] - 0s 7ms/step - loss: 15.3865 - mae: 15.3865\n",
      "Epoch 24/100\n",
      "1/1 [==============================] - 0s 8ms/step - loss: 15.1404 - mae: 15.1404\n",
      "Epoch 25/100\n",
      "1/1 [==============================] - 0s 8ms/step - loss: 14.8936 - mae: 14.8936\n",
      "Epoch 26/100\n",
      "1/1 [==============================] - 0s 7ms/step - loss: 14.6535 - mae: 14.6535\n",
      "Epoch 27/100\n",
      "1/1 [==============================] - 0s 9ms/step - loss: 14.4071 - mae: 14.4071\n",
      "Epoch 28/100\n",
      "1/1 [==============================] - 0s 9ms/step - loss: 14.1542 - mae: 14.1542\n",
      "Epoch 29/100\n",
      "1/1 [==============================] - 0s 7ms/step - loss: 13.8959 - mae: 13.8959\n",
      "Epoch 30/100\n",
      "1/1 [==============================] - 0s 7ms/step - loss: 13.6346 - mae: 13.6346\n",
      "Epoch 31/100\n",
      "1/1 [==============================] - 0s 7ms/step - loss: 13.3699 - mae: 13.3699\n",
      "Epoch 32/100\n",
      "1/1 [==============================] - 0s 7ms/step - loss: 13.0986 - mae: 13.0986\n",
      "Epoch 33/100\n",
      "1/1 [==============================] - 0s 7ms/step - loss: 12.8214 - mae: 12.8214\n",
      "Epoch 34/100\n",
      "1/1 [==============================] - 0s 10ms/step - loss: 12.5377 - mae: 12.5377\n",
      "Epoch 35/100\n",
      "1/1 [==============================] - 0s 8ms/step - loss: 12.2465 - mae: 12.2465\n",
      "Epoch 36/100\n",
      "1/1 [==============================] - 0s 10ms/step - loss: 11.9479 - mae: 11.9479\n",
      "Epoch 37/100\n",
      "1/1 [==============================] - 0s 8ms/step - loss: 11.6445 - mae: 11.6445\n",
      "Epoch 38/100\n",
      "1/1 [==============================] - 0s 8ms/step - loss: 11.3365 - mae: 11.3365\n",
      "Epoch 39/100\n",
      "1/1 [==============================] - 0s 9ms/step - loss: 11.0214 - mae: 11.0214\n",
      "Epoch 40/100\n",
      "1/1 [==============================] - 0s 7ms/step - loss: 10.6988 - mae: 10.6988\n",
      "Epoch 41/100\n",
      "1/1 [==============================] - 0s 8ms/step - loss: 10.3682 - mae: 10.3682\n",
      "Epoch 42/100\n",
      "1/1 [==============================] - 0s 7ms/step - loss: 10.0283 - mae: 10.0283\n",
      "Epoch 43/100\n",
      "1/1 [==============================] - 0s 7ms/step - loss: 9.6788 - mae: 9.6788\n",
      "Epoch 44/100\n",
      "1/1 [==============================] - 0s 7ms/step - loss: 9.3191 - mae: 9.3191\n",
      "Epoch 45/100\n",
      "1/1 [==============================] - 0s 9ms/step - loss: 8.9491 - mae: 8.9491\n",
      "Epoch 46/100\n",
      "1/1 [==============================] - 0s 9ms/step - loss: 8.5685 - mae: 8.5685\n",
      "Epoch 47/100\n",
      "1/1 [==============================] - 0s 8ms/step - loss: 8.1768 - mae: 8.1768\n",
      "Epoch 48/100\n",
      "1/1 [==============================] - 0s 9ms/step - loss: 7.7739 - mae: 7.7739\n",
      "Epoch 49/100\n",
      "1/1 [==============================] - 0s 8ms/step - loss: 7.3593 - mae: 7.3593\n",
      "Epoch 50/100\n",
      "1/1 [==============================] - 0s 10ms/step - loss: 6.9326 - mae: 6.9326\n",
      "Epoch 51/100\n",
      "1/1 [==============================] - 0s 7ms/step - loss: 6.4936 - mae: 6.4936\n",
      "Epoch 52/100\n",
      "1/1 [==============================] - 0s 7ms/step - loss: 6.0419 - mae: 6.0419\n",
      "Epoch 53/100\n",
      "1/1 [==============================] - 0s 9ms/step - loss: 5.5774 - mae: 5.5774\n",
      "Epoch 54/100\n",
      "1/1 [==============================] - 0s 9ms/step - loss: 5.0991 - mae: 5.0991\n",
      "Epoch 55/100\n",
      "1/1 [==============================] - 0s 8ms/step - loss: 4.6076 - mae: 4.6076\n",
      "Epoch 56/100\n",
      "1/1 [==============================] - 0s 8ms/step - loss: 4.1053 - mae: 4.1053\n",
      "Epoch 57/100\n",
      "1/1 [==============================] - 0s 7ms/step - loss: 3.5898 - mae: 3.5898\n",
      "Epoch 58/100\n",
      "1/1 [==============================] - 0s 8ms/step - loss: 3.0593 - mae: 3.0593\n",
      "Epoch 59/100\n",
      "1/1 [==============================] - 0s 8ms/step - loss: 2.6565 - mae: 2.6565\n",
      "Epoch 60/100\n",
      "1/1 [==============================] - 0s 10ms/step - loss: 2.2772 - mae: 2.2772\n",
      "Epoch 61/100\n",
      "1/1 [==============================] - 0s 9ms/step - loss: 1.8963 - mae: 1.8963\n",
      "Epoch 62/100\n",
      "1/1 [==============================] - 0s 10ms/step - loss: 1.5531 - mae: 1.5531\n",
      "Epoch 63/100\n",
      "1/1 [==============================] - 0s 8ms/step - loss: 1.5839 - mae: 1.5839\n",
      "Epoch 64/100\n",
      "1/1 [==============================] - 0s 9ms/step - loss: 1.7691 - mae: 1.7691\n",
      "Epoch 65/100\n",
      "1/1 [==============================] - 0s 9ms/step - loss: 2.0047 - mae: 2.0047\n",
      "Epoch 66/100\n",
      "1/1 [==============================] - 0s 7ms/step - loss: 2.1873 - mae: 2.1873\n",
      "Epoch 67/100\n",
      "1/1 [==============================] - 0s 7ms/step - loss: 2.3207 - mae: 2.3207\n",
      "Epoch 68/100\n",
      "1/1 [==============================] - 0s 7ms/step - loss: 2.4091 - mae: 2.4091\n",
      "Epoch 69/100\n",
      "1/1 [==============================] - 0s 6ms/step - loss: 2.4566 - mae: 2.4566\n",
      "Epoch 70/100\n",
      "1/1 [==============================] - 0s 7ms/step - loss: 2.4671 - mae: 2.4671\n",
      "Epoch 71/100\n",
      "1/1 [==============================] - 0s 8ms/step - loss: 2.4445 - mae: 2.4445\n",
      "Epoch 72/100\n",
      "1/1 [==============================] - 0s 9ms/step - loss: 2.3926 - mae: 2.3926\n",
      "Epoch 73/100\n",
      "1/1 [==============================] - 0s 7ms/step - loss: 2.3147 - mae: 2.3147\n",
      "Epoch 74/100\n",
      "1/1 [==============================] - 0s 7ms/step - loss: 2.2142 - mae: 2.2142\n",
      "Epoch 75/100\n",
      "1/1 [==============================] - 0s 8ms/step - loss: 2.0940 - mae: 2.0940\n",
      "Epoch 76/100\n",
      "1/1 [==============================] - 0s 11ms/step - loss: 1.9568 - mae: 1.9568\n",
      "Epoch 77/100\n",
      "1/1 [==============================] - 0s 9ms/step - loss: 1.8052 - mae: 1.8052\n",
      "Epoch 78/100\n",
      "1/1 [==============================] - 0s 7ms/step - loss: 1.6523 - mae: 1.6523\n",
      "Epoch 79/100\n",
      "1/1 [==============================] - 0s 8ms/step - loss: 1.5666 - mae: 1.5666\n",
      "Epoch 80/100\n",
      "1/1 [==============================] - 0s 7ms/step - loss: 1.5149 - mae: 1.5149\n",
      "Epoch 81/100\n",
      "1/1 [==============================] - 0s 7ms/step - loss: 1.5027 - mae: 1.5027\n",
      "Epoch 82/100\n",
      "1/1 [==============================] - 0s 6ms/step - loss: 1.5837 - mae: 1.5837\n",
      "Epoch 83/100\n",
      "1/1 [==============================] - 0s 6ms/step - loss: 1.6701 - mae: 1.6701\n",
      "Epoch 84/100\n",
      "1/1 [==============================] - 0s 7ms/step - loss: 1.7233 - mae: 1.7233\n",
      "Epoch 85/100\n",
      "1/1 [==============================] - 0s 8ms/step - loss: 1.7341 - mae: 1.7341\n",
      "Epoch 86/100\n",
      "1/1 [==============================] - 0s 8ms/step - loss: 1.7064 - mae: 1.7064\n",
      "Epoch 87/100\n",
      "1/1 [==============================] - 0s 8ms/step - loss: 1.6421 - mae: 1.6421\n",
      "Epoch 88/100\n"
     ]
    },
    {
     "name": "stdout",
     "output_type": "stream",
     "text": [
      "1/1 [==============================] - 0s 7ms/step - loss: 1.5646 - mae: 1.5646\n",
      "Epoch 89/100\n",
      "1/1 [==============================] - 0s 7ms/step - loss: 1.4871 - mae: 1.4871\n",
      "Epoch 90/100\n",
      "1/1 [==============================] - 0s 7ms/step - loss: 1.4852 - mae: 1.4852\n",
      "Epoch 91/100\n",
      "1/1 [==============================] - 0s 9ms/step - loss: 1.5044 - mae: 1.5044\n",
      "Epoch 92/100\n",
      "1/1 [==============================] - 0s 10ms/step - loss: 1.5261 - mae: 1.5261\n",
      "Epoch 93/100\n",
      "1/1 [==============================] - 0s 7ms/step - loss: 1.5421 - mae: 1.5421\n",
      "Epoch 94/100\n",
      "1/1 [==============================] - 0s 8ms/step - loss: 1.5615 - mae: 1.5615\n",
      "Epoch 95/100\n",
      "1/1 [==============================] - 0s 8ms/step - loss: 1.5701 - mae: 1.5701\n",
      "Epoch 96/100\n",
      "1/1 [==============================] - 0s 9ms/step - loss: 1.5670 - mae: 1.5670\n",
      "Epoch 97/100\n",
      "1/1 [==============================] - 0s 9ms/step - loss: 1.5535 - mae: 1.5535\n",
      "Epoch 98/100\n",
      "1/1 [==============================] - 0s 8ms/step - loss: 1.5316 - mae: 1.5316\n",
      "Epoch 99/100\n",
      "1/1 [==============================] - 0s 10ms/step - loss: 1.5156 - mae: 1.5156\n",
      "Epoch 100/100\n",
      "1/1 [==============================] - 0s 8ms/step - loss: 1.4976 - mae: 1.4976\n"
     ]
    },
    {
     "data": {
      "text/plain": [
       "<keras.callbacks.History at 0x23740b739a0>"
      ]
     },
     "execution_count": 40,
     "metadata": {},
     "output_type": "execute_result"
    }
   ],
   "source": [
    "#1. creating the model(specified to our model)\n",
    "model=tf.keras.Sequential([\n",
    "    tf.keras.layers.Dense(100, activation=\"relu\"),\n",
    "    tf.keras.layers.Dense(100, activation=\"relu\"),\n",
    "    tf.keras.layers.Dense(100, activation=\"relu\"),\n",
    "    tf.keras.layers.Dense(1)\n",
    "])\n",
    "\n",
    "#2. Compiling our model\n",
    "model.compile(\n",
    "    loss=tf.keras.losses.mae,\n",
    "    optimizer=tf.keras.optimizers.Adam(lr=0.0003),\n",
    "    metrics=[\"mae\"]\n",
    ")\n",
    "\n",
    "#3. Fit the model\n",
    "model.fit(tf.expand_dims(X,axis=-1),y,epochs=100)"
   ]
  },
  {
   "cell_type": "code",
   "execution_count": 41,
   "metadata": {},
   "outputs": [
    {
     "name": "stdout",
     "output_type": "stream",
     "text": [
      "Epoch 1/100\n",
      "1/1 [==============================] - 1s 691ms/step - loss: 1.9305 - mae: 1.9305\n",
      "Epoch 2/100\n",
      "1/1 [==============================] - 0s 10ms/step - loss: 1.7350 - mae: 1.7350\n",
      "Epoch 3/100\n",
      "1/1 [==============================] - 0s 13ms/step - loss: 1.8770 - mae: 1.8770\n",
      "Epoch 4/100\n",
      "1/1 [==============================] - 0s 12ms/step - loss: 1.7784 - mae: 1.7784\n",
      "Epoch 5/100\n",
      "1/1 [==============================] - 0s 9ms/step - loss: 1.8377 - mae: 1.8377\n",
      "Epoch 6/100\n",
      "1/1 [==============================] - 0s 14ms/step - loss: 1.7120 - mae: 1.7120\n",
      "Epoch 7/100\n",
      "1/1 [==============================] - 0s 9ms/step - loss: 1.7098 - mae: 1.7098\n",
      "Epoch 8/100\n",
      "1/1 [==============================] - 0s 8ms/step - loss: 1.7075 - mae: 1.7075\n",
      "Epoch 9/100\n",
      "1/1 [==============================] - 0s 6ms/step - loss: 1.7052 - mae: 1.7052\n",
      "Epoch 10/100\n",
      "1/1 [==============================] - 0s 10ms/step - loss: 1.7050 - mae: 1.7050\n",
      "Epoch 11/100\n",
      "1/1 [==============================] - 0s 8ms/step - loss: 1.7343 - mae: 1.7343\n",
      "Epoch 12/100\n",
      "1/1 [==============================] - 0s 10ms/step - loss: 1.6995 - mae: 1.6995\n",
      "Epoch 13/100\n",
      "1/1 [==============================] - 0s 11ms/step - loss: 1.6999 - mae: 1.6999\n",
      "Epoch 14/100\n",
      "1/1 [==============================] - 0s 9ms/step - loss: 1.7285 - mae: 1.7285\n",
      "Epoch 15/100\n",
      "1/1 [==============================] - 0s 9ms/step - loss: 1.6938 - mae: 1.6938\n",
      "Epoch 16/100\n",
      "1/1 [==============================] - 0s 8ms/step - loss: 1.6947 - mae: 1.6947\n",
      "Epoch 17/100\n",
      "1/1 [==============================] - 0s 9ms/step - loss: 1.7228 - mae: 1.7228\n",
      "Epoch 18/100\n",
      "1/1 [==============================] - 0s 9ms/step - loss: 1.6882 - mae: 1.6882\n",
      "Epoch 19/100\n",
      "1/1 [==============================] - 0s 10ms/step - loss: 1.6896 - mae: 1.6896\n",
      "Epoch 20/100\n",
      "1/1 [==============================] - 0s 7ms/step - loss: 1.7170 - mae: 1.7170\n",
      "Epoch 21/100\n",
      "1/1 [==============================] - 0s 7ms/step - loss: 1.6825 - mae: 1.6825\n",
      "Epoch 22/100\n",
      "1/1 [==============================] - 0s 8ms/step - loss: 1.6845 - mae: 1.6845\n",
      "Epoch 23/100\n",
      "1/1 [==============================] - 0s 6ms/step - loss: 1.8663 - mae: 1.8663\n",
      "Epoch 24/100\n",
      "1/1 [==============================] - 0s 8ms/step - loss: 1.7279 - mae: 1.7279\n",
      "Epoch 25/100\n",
      "1/1 [==============================] - 0s 8ms/step - loss: 1.8184 - mae: 1.8184\n",
      "Epoch 26/100\n",
      "1/1 [==============================] - 0s 10ms/step - loss: 1.6756 - mae: 1.6756\n",
      "Epoch 27/100\n",
      "1/1 [==============================] - 0s 8ms/step - loss: 1.6733 - mae: 1.6733\n",
      "Epoch 28/100\n",
      "1/1 [==============================] - 0s 9ms/step - loss: 1.6710 - mae: 1.6710\n",
      "Epoch 29/100\n",
      "1/1 [==============================] - 0s 8ms/step - loss: 1.6687 - mae: 1.6687\n",
      "Epoch 30/100\n",
      "1/1 [==============================] - 0s 8ms/step - loss: 1.6664 - mae: 1.6664\n",
      "Epoch 31/100\n",
      "1/1 [==============================] - 0s 7ms/step - loss: 1.6654 - mae: 1.6654\n",
      "Epoch 32/100\n",
      "1/1 [==============================] - 0s 7ms/step - loss: 1.6985 - mae: 1.6985\n",
      "Epoch 33/100\n",
      "1/1 [==============================] - 0s 8ms/step - loss: 1.6608 - mae: 1.6608\n",
      "Epoch 34/100\n",
      "1/1 [==============================] - 0s 8ms/step - loss: 1.6602 - mae: 1.6602\n",
      "Epoch 35/100\n",
      "1/1 [==============================] - 0s 8ms/step - loss: 1.6928 - mae: 1.6928\n",
      "Epoch 36/100\n",
      "1/1 [==============================] - 0s 8ms/step - loss: 1.6551 - mae: 1.6551\n",
      "Epoch 37/100\n",
      "1/1 [==============================] - 0s 7ms/step - loss: 1.6551 - mae: 1.6551\n",
      "Epoch 38/100\n",
      "1/1 [==============================] - 0s 9ms/step - loss: 1.6870 - mae: 1.6870\n",
      "Epoch 39/100\n",
      "1/1 [==============================] - 0s 7ms/step - loss: 1.6494 - mae: 1.6494\n",
      "Epoch 40/100\n",
      "1/1 [==============================] - 0s 11ms/step - loss: 1.6499 - mae: 1.6499\n",
      "Epoch 41/100\n",
      "1/1 [==============================] - 0s 9ms/step - loss: 1.6812 - mae: 1.6812\n",
      "Epoch 42/100\n",
      "1/1 [==============================] - 0s 8ms/step - loss: 1.6438 - mae: 1.6438\n",
      "Epoch 43/100\n",
      "1/1 [==============================] - 0s 12ms/step - loss: 1.6455 - mae: 1.6455\n",
      "Epoch 44/100\n",
      "1/1 [==============================] - 0s 11ms/step - loss: 1.8395 - mae: 1.8395\n",
      "Epoch 45/100\n",
      "1/1 [==============================] - 0s 10ms/step - loss: 1.6889 - mae: 1.6889\n",
      "Epoch 46/100\n",
      "1/1 [==============================] - 0s 7ms/step - loss: 1.7877 - mae: 1.7877\n",
      "Epoch 47/100\n",
      "1/1 [==============================] - 0s 10ms/step - loss: 1.6369 - mae: 1.6369\n",
      "Epoch 48/100\n",
      "1/1 [==============================] - 0s 10ms/step - loss: 1.6346 - mae: 1.6346\n",
      "Epoch 49/100\n",
      "1/1 [==============================] - 0s 9ms/step - loss: 1.6323 - mae: 1.6323\n",
      "Epoch 50/100\n",
      "1/1 [==============================] - 0s 8ms/step - loss: 1.6300 - mae: 1.6300\n",
      "Epoch 51/100\n",
      "1/1 [==============================] - 0s 9ms/step - loss: 1.6277 - mae: 1.6277\n",
      "Epoch 52/100\n",
      "1/1 [==============================] - 0s 8ms/step - loss: 1.6257 - mae: 1.6257\n",
      "Epoch 53/100\n",
      "1/1 [==============================] - 0s 8ms/step - loss: 1.6628 - mae: 1.6628\n",
      "Epoch 54/100\n",
      "1/1 [==============================] - 0s 8ms/step - loss: 1.6220 - mae: 1.6220\n",
      "Epoch 55/100\n",
      "1/1 [==============================] - 0s 8ms/step - loss: 1.6206 - mae: 1.6206\n",
      "Epoch 56/100\n",
      "1/1 [==============================] - 0s 9ms/step - loss: 1.6570 - mae: 1.6570\n",
      "Epoch 57/100\n",
      "1/1 [==============================] - 0s 8ms/step - loss: 1.6164 - mae: 1.6164\n",
      "Epoch 58/100\n",
      "1/1 [==============================] - 0s 8ms/step - loss: 1.6154 - mae: 1.6154\n",
      "Epoch 59/100\n",
      "1/1 [==============================] - 0s 8ms/step - loss: 1.6512 - mae: 1.6512\n",
      "Epoch 60/100\n",
      "1/1 [==============================] - 0s 9ms/step - loss: 1.6107 - mae: 1.6107\n",
      "Epoch 61/100\n",
      "1/1 [==============================] - 0s 13ms/step - loss: 1.6108 - mae: 1.6108\n",
      "Epoch 62/100\n",
      "1/1 [==============================] - 0s 10ms/step - loss: 1.8180 - mae: 1.8180\n",
      "Epoch 63/100\n",
      "1/1 [==============================] - 0s 9ms/step - loss: 1.6542 - mae: 1.6542\n",
      "Epoch 64/100\n",
      "1/1 [==============================] - 0s 8ms/step - loss: 1.7645 - mae: 1.7645\n",
      "Epoch 65/100\n",
      "1/1 [==============================] - 0s 10ms/step - loss: 1.6975 - mae: 1.6975\n",
      "Epoch 66/100\n",
      "1/1 [==============================] - 0s 8ms/step - loss: 1.7251 - mae: 1.7251\n",
      "Epoch 67/100\n",
      "1/1 [==============================] - 0s 8ms/step - loss: 1.5992 - mae: 1.5992\n",
      "Epoch 68/100\n",
      "1/1 [==============================] - 0s 9ms/step - loss: 1.5969 - mae: 1.5969\n",
      "Epoch 69/100\n",
      "1/1 [==============================] - 0s 9ms/step - loss: 1.5980 - mae: 1.5980\n",
      "Epoch 70/100\n",
      "1/1 [==============================] - 0s 9ms/step - loss: 1.8073 - mae: 1.8073\n",
      "Epoch 71/100\n",
      "1/1 [==============================] - 0s 9ms/step - loss: 1.6414 - mae: 1.6414\n",
      "Epoch 72/100\n",
      "1/1 [==============================] - 0s 8ms/step - loss: 1.7538 - mae: 1.7538\n",
      "Epoch 73/100\n",
      "1/1 [==============================] - 0s 8ms/step - loss: 1.6848 - mae: 1.6848\n",
      "Epoch 74/100\n",
      "1/1 [==============================] - 0s 8ms/step - loss: 1.7134 - mae: 1.7134\n",
      "Epoch 75/100\n",
      "1/1 [==============================] - 0s 7ms/step - loss: 1.5855 - mae: 1.5855\n",
      "Epoch 76/100\n",
      "1/1 [==============================] - 0s 7ms/step - loss: 1.5832 - mae: 1.5832\n",
      "Epoch 77/100\n",
      "1/1 [==============================] - 0s 8ms/step - loss: 1.5853 - mae: 1.5853\n",
      "Epoch 78/100\n",
      "1/1 [==============================] - 0s 9ms/step - loss: 1.7966 - mae: 1.7966\n",
      "Epoch 79/100\n",
      "1/1 [==============================] - 0s 8ms/step - loss: 1.6287 - mae: 1.6287\n",
      "Epoch 80/100\n",
      "1/1 [==============================] - 0s 8ms/step - loss: 1.7430 - mae: 1.7430\n",
      "Epoch 81/100\n",
      "1/1 [==============================] - 0s 6ms/step - loss: 1.6720 - mae: 1.6720\n",
      "Epoch 82/100\n",
      "1/1 [==============================] - 0s 7ms/step - loss: 1.7017 - mae: 1.7017\n",
      "Epoch 83/100\n",
      "1/1 [==============================] - 0s 6ms/step - loss: 1.5717 - mae: 1.5717\n",
      "Epoch 84/100\n",
      "1/1 [==============================] - 0s 7ms/step - loss: 1.5694 - mae: 1.5694\n",
      "Epoch 85/100\n",
      "1/1 [==============================] - 0s 8ms/step - loss: 1.5725 - mae: 1.5725\n",
      "Epoch 86/100\n",
      "1/1 [==============================] - 0s 8ms/step - loss: 1.7859 - mae: 1.7859\n",
      "Epoch 87/100\n",
      "1/1 [==============================] - 0s 6ms/step - loss: 1.6159 - mae: 1.6159\n",
      "Epoch 88/100\n",
      "1/1 [==============================] - 0s 12ms/step - loss: 1.7323 - mae: 1.7323\n"
     ]
    },
    {
     "name": "stdout",
     "output_type": "stream",
     "text": [
      "Epoch 89/100\n",
      "1/1 [==============================] - 0s 7ms/step - loss: 1.6593 - mae: 1.6593\n",
      "Epoch 90/100\n",
      "1/1 [==============================] - 0s 6ms/step - loss: 1.6899 - mae: 1.6899\n",
      "Epoch 91/100\n",
      "1/1 [==============================] - 0s 9ms/step - loss: 1.5579 - mae: 1.5579\n",
      "Epoch 92/100\n",
      "1/1 [==============================] - 0s 8ms/step - loss: 1.5556 - mae: 1.5556\n",
      "Epoch 93/100\n",
      "1/1 [==============================] - 0s 7ms/step - loss: 1.5598 - mae: 1.5598\n",
      "Epoch 94/100\n",
      "1/1 [==============================] - 0s 8ms/step - loss: 1.7752 - mae: 1.7752\n",
      "Epoch 95/100\n",
      "1/1 [==============================] - 0s 7ms/step - loss: 1.6032 - mae: 1.6032\n",
      "Epoch 96/100\n",
      "1/1 [==============================] - 0s 7ms/step - loss: 1.7216 - mae: 1.7216\n",
      "Epoch 97/100\n",
      "1/1 [==============================] - 0s 7ms/step - loss: 1.6465 - mae: 1.6465\n",
      "Epoch 98/100\n",
      "1/1 [==============================] - 0s 8ms/step - loss: 1.6782 - mae: 1.6782\n",
      "Epoch 99/100\n",
      "1/1 [==============================] - 0s 7ms/step - loss: 1.5441 - mae: 1.5441\n",
      "Epoch 100/100\n",
      "1/1 [==============================] - 0s 7ms/step - loss: 1.5418 - mae: 1.5418\n"
     ]
    },
    {
     "data": {
      "text/plain": [
       "<keras.callbacks.History at 0x23740df53d0>"
      ]
     },
     "execution_count": 41,
     "metadata": {},
     "output_type": "execute_result"
    }
   ],
   "source": [
    "#1. Creating the model\n",
    "model=tf.keras.Sequential(\n",
    "    tf.keras.layers.Dense(1)\n",
    ")\n",
    "\n",
    "#2. Compiling the model\n",
    "model.compile(\n",
    "    loss=tf.keras.losses.mae,\n",
    "    optimizer=tf.keras.optimizers.SGD(),\n",
    "    metrics=[\"mae\"]\n",
    ")\n",
    "\n",
    "#3. Fitting the model\n",
    "model.fit(tf.expand_dims(X,axis=-1),y,epochs=100)\n"
   ]
  },
  {
   "cell_type": "markdown",
   "metadata": {},
   "source": [
    "* Common ways to improve model\n",
    "1. Adding layers\n",
    "2. Increase the number of hidden units\n",
    "3. Change the activation function\n",
    "4. Change the optimization function\n",
    "5. Change the learning rate\n",
    "6. Fitting on more data\n",
    "7. Fitting for longer"
   ]
  },
  {
   "cell_type": "markdown",
   "metadata": {},
   "source": [
    "# Evaluting a model"
   ]
  },
  {
   "cell_type": "markdown",
   "metadata": {},
   "source": [
    "* IN practice , a typical workflow you will go through when building neural network is:\n"
   ]
  },
  {
   "cell_type": "markdown",
   "metadata": {},
   "source": [
    "Build a model->fit_it->evaluate_it->tweek_a_model->fit_it->evaluate_it->tweek_it->..."
   ]
  },
  {
   "cell_type": "markdown",
   "metadata": {},
   "source": [
    ">when it comes to evaluation there are 3 words you should memorize:\n",
    ">\"visualize,visualize,visualize\"\n",
    "It's a good idea to visualize:\n",
    "1.The data->what data are we working with?what does it look like?\n",
    "2.The model itself->what does our model look like?\n",
    "3.The training of a model->how does a model perform while it learns\n",
    "4.The predictions of the model->how do the predictions of a model line up against the\n",
    " ground truth(the orginal labels)?"
   ]
  },
  {
   "cell_type": "code",
   "execution_count": 42,
   "metadata": {},
   "outputs": [
    {
     "data": {
      "text/plain": [
       "<tf.Tensor: shape=(100,), dtype=int32, numpy=\n",
       "array([-100,  -98,  -96,  -94,  -92,  -90,  -88,  -86,  -84,  -82,  -80,\n",
       "        -78,  -76,  -74,  -72,  -70,  -68,  -66,  -64,  -62,  -60,  -58,\n",
       "        -56,  -54,  -52,  -50,  -48,  -46,  -44,  -42,  -40,  -38,  -36,\n",
       "        -34,  -32,  -30,  -28,  -26,  -24,  -22,  -20,  -18,  -16,  -14,\n",
       "        -12,  -10,   -8,   -6,   -4,   -2,    0,    2,    4,    6,    8,\n",
       "         10,   12,   14,   16,   18,   20,   22,   24,   26,   28,   30,\n",
       "         32,   34,   36,   38,   40,   42,   44,   46,   48,   50,   52,\n",
       "         54,   56,   58,   60,   62,   64,   66,   68,   70,   72,   74,\n",
       "         76,   78,   80,   82,   84,   86,   88,   90,   92,   94,   96,\n",
       "         98])>"
      ]
     },
     "execution_count": 42,
     "metadata": {},
     "output_type": "execute_result"
    }
   ],
   "source": [
    "#make a bigger dataset\n",
    "X=tf.range(-100,100,2)\n",
    "X"
   ]
  },
  {
   "cell_type": "code",
   "execution_count": 43,
   "metadata": {},
   "outputs": [
    {
     "data": {
      "text/plain": [
       "<tf.Tensor: shape=(100,), dtype=int32, numpy=\n",
       "array([-97, -95, -93, -91, -89, -87, -85, -83, -81, -79, -77, -75, -73,\n",
       "       -71, -69, -67, -65, -63, -61, -59, -57, -55, -53, -51, -49, -47,\n",
       "       -45, -43, -41, -39, -37, -35, -33, -31, -29, -27, -25, -23, -21,\n",
       "       -19, -17, -15, -13, -11,  -9,  -7,  -5,  -3,  -1,   1,   3,   5,\n",
       "         7,   9,  11,  13,  15,  17,  19,  21,  23,  25,  27,  29,  31,\n",
       "        33,  35,  37,  39,  41,  43,  45,  47,  49,  51,  53,  55,  57,\n",
       "        59,  61,  63,  65,  67,  69,  71,  73,  75,  77,  79,  81,  83,\n",
       "        85,  87,  89,  91,  93,  95,  97,  99, 101])>"
      ]
     },
     "execution_count": 43,
     "metadata": {},
     "output_type": "execute_result"
    }
   ],
   "source": [
    "y=X+3\n",
    "y"
   ]
  },
  {
   "cell_type": "code",
   "execution_count": 44,
   "metadata": {},
   "outputs": [
    {
     "data": {
      "text/plain": [
       "<matplotlib.collections.PathCollection at 0x23740f47220>"
      ]
     },
     "execution_count": 44,
     "metadata": {},
     "output_type": "execute_result"
    },
    {
     "data": {
      "image/png": "[encoded data removed]",
      "text/plain": [
       "<Figure size 432x288 with 1 Axes>"
      ]
     },
     "metadata": {
      "needs_background": "light"
     },
     "output_type": "display_data"
    }
   ],
   "source": [
    "plt.scatter(X,y)"
   ]
  },
  {
   "cell_type": "code",
   "execution_count": 45,
   "metadata": {},
   "outputs": [
    {
     "data": {
      "text/plain": [
       "(80, 80, 20, 20)"
      ]
     },
     "execution_count": 45,
     "metadata": {},
     "output_type": "execute_result"
    }
   ],
   "source": [
    "# Splitting our dataset into training and testing data\n",
    "X_train=X[:80] #80% for training\n",
    "y_train=y[:80]\n",
    "\n",
    "X_test=X[80:] #20% for testing\n",
    "y_test=y[80:] \n",
    "\n",
    "len(X_train),len(y_train),len(X_test),len(y_test)"
   ]
  },
  {
   "cell_type": "code",
   "execution_count": 46,
   "metadata": {},
   "outputs": [
    {
     "data": {
      "text/plain": [
       "<matplotlib.legend.Legend at 0x2373c8104f0>"
      ]
     },
     "execution_count": 46,
     "metadata": {},
     "output_type": "execute_result"
    },
    {
     "data": {
      "image/png": "[encoded data removed]",
      "text/plain": [
       "<Figure size 1440x1008 with 1 Axes>"
      ]
     },
     "metadata": {
      "needs_background": "light"
     },
     "output_type": "display_data"
    }
   ],
   "source": [
    "plt.figure(figsize=(20,14))\n",
    "#plotting training in blue\n",
    "plt.scatter(X_train,y_train,c=\"b\",label=\"Training data\")\n",
    "#plotting testing in green\n",
    "plt.scatter(X_test,y_test,c=\"g\",label=\"Testing data\")\n",
    "#Show a legend\n",
    "plt.legend()"
   ]
  },
  {
   "cell_type": "code",
   "execution_count": 47,
   "metadata": {},
   "outputs": [],
   "source": [
    "# Let's have a look at how to build a neural network for our data\n",
    " \n",
    "# 1. Create a model\n",
    "from statistics import mode\n",
    "\n",
    "\n",
    "model=tf.keras.Sequential([\n",
    "    tf.keras.layers.Dense(1,activation=\"relu\")\n",
    "])\n",
    "\n",
    "#2. Compiling the model\n",
    "model.compile(\n",
    "    loss=tf.keras.losses.mae,\n",
    "    optimizer=tf.keras.optimizers.SGD(),\n",
    "    metrics=[\"mae\"]\n",
    ")\n",
    "\n",
    "#3. Fitting the model\n",
    "#model.fit(tf.expand_dims(X_train,axis=-1),y_train,epochs=50)"
   ]
  },
  {
   "cell_type": "code",
   "execution_count": 48,
   "metadata": {},
   "outputs": [
    {
     "ename": "ValueError",
     "evalue": "This model has not yet been built. Build the model first by calling `build()` or by calling the model on a batch of data.",
     "output_type": "error",
     "traceback": [
      "\u001b[1;31m---------------------------------------------------------------------------\u001b[0m",
      "\u001b[1;31mValueError\u001b[0m                                Traceback (most recent call last)",
      "Input \u001b[1;32mIn [48]\u001b[0m, in \u001b[0;36m<cell line: 1>\u001b[1;34m()\u001b[0m\n\u001b[1;32m----> 1\u001b[0m \u001b[43mmodel\u001b[49m\u001b[38;5;241;43m.\u001b[39;49m\u001b[43msummary\u001b[49m\u001b[43m(\u001b[49m\u001b[43m)\u001b[49m\n",
      "File \u001b[1;32m~\\anaconda3\\lib\\site-packages\\keras\\engine\\training.py:3214\u001b[0m, in \u001b[0;36mModel.summary\u001b[1;34m(self, line_length, positions, print_fn, expand_nested, show_trainable, layer_range)\u001b[0m\n\u001b[0;32m   3184\u001b[0m \u001b[38;5;124;03m\"\"\"Prints a string summary of the network.\u001b[39;00m\n\u001b[0;32m   3185\u001b[0m \n\u001b[0;32m   3186\u001b[0m \u001b[38;5;124;03mArgs:\u001b[39;00m\n\u001b[1;32m   (...)\u001b[0m\n\u001b[0;32m   3211\u001b[0m \u001b[38;5;124;03m    ValueError: if `summary()` is called before the model is built.\u001b[39;00m\n\u001b[0;32m   3212\u001b[0m \u001b[38;5;124;03m\"\"\"\u001b[39;00m\n\u001b[0;32m   3213\u001b[0m \u001b[38;5;28;01mif\u001b[39;00m \u001b[38;5;129;01mnot\u001b[39;00m \u001b[38;5;28mself\u001b[39m\u001b[38;5;241m.\u001b[39mbuilt:\n\u001b[1;32m-> 3214\u001b[0m     \u001b[38;5;28;01mraise\u001b[39;00m \u001b[38;5;167;01mValueError\u001b[39;00m(\n\u001b[0;32m   3215\u001b[0m         \u001b[38;5;124m\"\u001b[39m\u001b[38;5;124mThis model has not yet been built. \u001b[39m\u001b[38;5;124m\"\u001b[39m\n\u001b[0;32m   3216\u001b[0m         \u001b[38;5;124m\"\u001b[39m\u001b[38;5;124mBuild the model first by calling `build()` or by calling \u001b[39m\u001b[38;5;124m\"\u001b[39m\n\u001b[0;32m   3217\u001b[0m         \u001b[38;5;124m\"\u001b[39m\u001b[38;5;124mthe model on a batch of data.\u001b[39m\u001b[38;5;124m\"\u001b[39m\n\u001b[0;32m   3218\u001b[0m     )\n\u001b[0;32m   3219\u001b[0m layer_utils\u001b[38;5;241m.\u001b[39mprint_summary(\n\u001b[0;32m   3220\u001b[0m     \u001b[38;5;28mself\u001b[39m,\n\u001b[0;32m   3221\u001b[0m     line_length\u001b[38;5;241m=\u001b[39mline_length,\n\u001b[1;32m   (...)\u001b[0m\n\u001b[0;32m   3226\u001b[0m     layer_range\u001b[38;5;241m=\u001b[39mlayer_range,\n\u001b[0;32m   3227\u001b[0m )\n",
      "\u001b[1;31mValueError\u001b[0m: This model has not yet been built. Build the model first by calling `build()` or by calling the model on a batch of data."
     ]
    }
   ],
   "source": [
    "model.summary()"
   ]
  },
  {
   "cell_type": "code",
   "execution_count": 49,
   "metadata": {},
   "outputs": [],
   "source": [
    "# Let's create a model that automatically builds after providing input shape\n",
    "\n",
    "tf.random.set_seed(42)\n",
    "\n",
    "#1. Create the model\n",
    "model=tf.keras.Sequential([\n",
    "    tf.keras.layers.Dense(3,input_shape=[1],name=\"hidden_layer\"),\n",
    "    tf.keras.layers.Dense(1,name=\"output_layer\")\n",
    "],name=\"model_1\")\n",
    "\n",
    "#2. Compiling the model\n",
    "model.compile(\n",
    "    loss=tf.keras.losses.mae,\n",
    "    optimizer=tf.keras.optimizers.SGD(),\n",
    "    metrics=[\"mae\"]\n",
    ")"
   ]
  },
  {
   "cell_type": "code",
   "execution_count": 31,
   "metadata": {},
   "outputs": [
    {
     "name": "stdout",
     "output_type": "stream",
     "text": [
      "Model: \"model_1\"\n",
      "_________________________________________________________________\n",
      " Layer (type)                Output Shape              Param #   \n",
      "=================================================================\n",
      " hidden_layer (Dense)        (None, 3)                 6         \n",
      "                                                                 \n",
      " output_layer (Dense)        (None, 1)                 4         \n",
      "                                                                 \n",
      "=================================================================\n",
      "Total params: 10\n",
      "Trainable params: 10\n",
      "Non-trainable params: 0\n",
      "_________________________________________________________________\n"
     ]
    }
   ],
   "source": [
    "model.summary()"
   ]
  },
  {
   "cell_type": "markdown",
   "metadata": {},
   "source": [
    "* Total Param ->total number of parameter in the model\n",
    "* Trainable params ->these are the parameters(patterns) the model can update as it triangular\n",
    "* Non-trainable params ->these parameters aren't updated during training(this is typical\n",
    "    when you bring parameters from other models during transfer learning)."
   ]
  },
  {
   "cell_type": "code",
   "execution_count": 51,
   "metadata": {},
   "outputs": [
    {
     "data": {
      "text/plain": [
       "[array([[-0.332707 , -1.1717343, -1.2146131]], dtype=float32),\n",
       " array([0., 0., 0.], dtype=float32),\n",
       " array([[ 0.92483413],\n",
       "        [-1.0949118 ],\n",
       "        [ 0.45400083]], dtype=float32),\n",
       " array([0.], dtype=float32)]"
      ]
     },
     "execution_count": 51,
     "metadata": {},
     "output_type": "execute_result"
    }
   ],
   "source": [
    "model.get_weights()"
   ]
  },
  {
   "cell_type": "code",
   "execution_count": 52,
   "metadata": {},
   "outputs": [
    {
     "data": {
      "text/plain": [
       "<keras.callbacks.History at 0x23740b16fd0>"
      ]
     },
     "execution_count": 52,
     "metadata": {},
     "output_type": "execute_result"
    }
   ],
   "source": [
    "#Let's fit our model to the training data\n",
    "\n",
    "model.fit(X_train,y_train,epochs=100,verbose=0)"
   ]
  },
  {
   "cell_type": "code",
   "execution_count": 53,
   "metadata": {},
   "outputs": [
    {
     "data": {
      "image/png": "[encoded data removed]",
      "text/plain": [
       "<IPython.core.display.Image object>"
      ]
     },
     "execution_count": 53,
     "metadata": {},
     "output_type": "execute_result"
    }
   ],
   "source": [
    "from tensorflow.keras.utils import plot_model\n",
    "plot_model(model=model,show_shapes=True)"
   ]
  },
  {
   "cell_type": "markdown",
   "metadata": {},
   "source": [
    "# Visualizing our model predictions\n",
    "* To visualize our model predictions , it's a good idea to plot them against the ground truth.\n",
    "* Often you see it 'y_predict' vs 'y_test'(ground reality)."
   ]
  },
  {
   "cell_type": "code",
   "execution_count": 32,
   "metadata": {},
   "outputs": [
    {
     "name": "stdout",
     "output_type": "stream",
     "text": [
      "1/1 [==============================] - 0s 170ms/step\n"
     ]
    },
    {
     "data": {
      "text/plain": [
       "array([[53.47648 ],\n",
       "       [55.228848],\n",
       "       [56.981205],\n",
       "       [58.73357 ],\n",
       "       [60.485935],\n",
       "       [62.238293],\n",
       "       [63.99066 ],\n",
       "       [65.74302 ],\n",
       "       [67.495384],\n",
       "       [69.24774 ],\n",
       "       [71.000114],\n",
       "       [72.75247 ],\n",
       "       [74.50483 ],\n",
       "       [76.257195],\n",
       "       [78.00956 ],\n",
       "       [79.76192 ],\n",
       "       [81.51428 ],\n",
       "       [83.266655],\n",
       "       [85.01901 ],\n",
       "       [86.77137 ]], dtype=float32)"
      ]
     },
     "execution_count": 32,
     "metadata": {},
     "output_type": "execute_result"
    }
   ],
   "source": [
    "#Make some predictions\n",
    "y_pred=model.predict(X_test)\n",
    "y_pred"
   ]
  },
  {
   "cell_type": "code",
   "execution_count": 33,
   "metadata": {},
   "outputs": [
    {
     "data": {
      "text/plain": [
       "<tf.Tensor: shape=(20,), dtype=int32, numpy=\n",
       "array([ 63,  65,  67,  69,  71,  73,  75,  77,  79,  81,  83,  85,  87,\n",
       "        89,  91,  93,  95,  97,  99, 101])>"
      ]
     },
     "execution_count": 33,
     "metadata": {},
     "output_type": "execute_result"
    }
   ],
   "source": [
    "y_test"
   ]
  },
  {
   "cell_type": "code",
   "execution_count": 38,
   "metadata": {},
   "outputs": [],
   "source": [
    "# Let's Create a plotting function\n",
    "def plot_predictions(\n",
    "    train_data=X_train,\n",
    "    train_label=y_train,\n",
    "    test_data=X_test,\n",
    "    test_label=y_test,\n",
    "    predictions=y_pred):\n",
    "    \"\"\"\n",
    "    Plots training data,test data and compare predictions to ground truth tabels.\n",
    "    \"\"\"\n",
    "    plt.figure(figsize=(10,7))\n",
    "    #plotting training data in blue\n",
    "    plt.scatter(train_data,train_label,c=\"b\",label=\"Training data\")\n",
    "    #plotting testing data in red\n",
    "    plt.scatter(test_data,test_label,c=\"r\",label=\"Testing data\")\n",
    "    #plotting prediction data in green\n",
    "    plt.scatter(test_data,predictions,c=\"g\",label=\"Predictions\")\n",
    "    #show the legend\n",
    "    plt.legend()"
   ]
  },
  {
   "cell_type": "code",
   "execution_count": 39,
   "metadata": {},
   "outputs": [
    {
     "data": {
      "image/png": "[encoded data removed]",
      "text/plain": [
       "<Figure size 1000x700 with 1 Axes>"
      ]
     },
     "metadata": {},
     "output_type": "display_data"
    }
   ],
   "source": [
    "plot_predictions(X_train,y_train,X_test,y_test,y_pred)"
   ]
  },
  {
   "cell_type": "markdown",
   "metadata": {},
   "source": [
    "* Evaluating our predictions with regression evaluaton metrics"
   ]
  },
  {
   "cell_type": "code",
   "execution_count": 40,
   "metadata": {},
   "outputs": [
    {
     "name": "stdout",
     "output_type": "stream",
     "text": [
      "1/1 [==============================] - 0s 382ms/step - loss: 11.8761 - mae: 11.8761\n"
     ]
    },
    {
     "data": {
      "text/plain": [
       "[11.876072883605957, 11.876072883605957]"
      ]
     },
     "execution_count": 40,
     "metadata": {},
     "output_type": "execute_result"
    }
   ],
   "source": [
    " # Evaluate the model on the test\n",
    "model.evaluate(X_test,y_test)"
   ]
  },
  {
   "cell_type": "code",
   "execution_count": 42,
   "metadata": {},
   "outputs": [
    {
     "data": {
      "text/plain": [
       "(<tf.Tensor: shape=(20,), dtype=int32, numpy=\n",
       " array([ 63,  65,  67,  69,  71,  73,  75,  77,  79,  81,  83,  85,  87,\n",
       "         89,  91,  93,  95,  97,  99, 101])>,\n",
       " array([[53.47648 ],\n",
       "        [55.228848],\n",
       "        [56.981205],\n",
       "        [58.73357 ],\n",
       "        [60.485935],\n",
       "        [62.238293],\n",
       "        [63.99066 ],\n",
       "        [65.74302 ],\n",
       "        [67.495384],\n",
       "        [69.24774 ],\n",
       "        [71.000114],\n",
       "        [72.75247 ],\n",
       "        [74.50483 ],\n",
       "        [76.257195],\n",
       "        [78.00956 ],\n",
       "        [79.76192 ],\n",
       "        [81.51428 ],\n",
       "        [83.266655],\n",
       "        [85.01901 ],\n",
       "        [86.77137 ]], dtype=float32))"
      ]
     },
     "execution_count": 42,
     "metadata": {},
     "output_type": "execute_result"
    }
   ],
   "source": [
    "y_test,y_pred"
   ]
  },
  {
   "cell_type": "code",
   "execution_count": 45,
   "metadata": {},
   "outputs": [],
   "source": [
    "y_pred=tf.constant(y_pred)"
   ]
  },
  {
   "cell_type": "code",
   "execution_count": 46,
   "metadata": {},
   "outputs": [
    {
     "data": {
      "text/plain": [
       "<tf.Tensor: shape=(20, 1), dtype=float32, numpy=\n",
       "array([[53.47648 ],\n",
       "       [55.228848],\n",
       "       [56.981205],\n",
       "       [58.73357 ],\n",
       "       [60.485935],\n",
       "       [62.238293],\n",
       "       [63.99066 ],\n",
       "       [65.74302 ],\n",
       "       [67.495384],\n",
       "       [69.24774 ],\n",
       "       [71.000114],\n",
       "       [72.75247 ],\n",
       "       [74.50483 ],\n",
       "       [76.257195],\n",
       "       [78.00956 ],\n",
       "       [79.76192 ],\n",
       "       [81.51428 ],\n",
       "       [83.266655],\n",
       "       [85.01901 ],\n",
       "       [86.77137 ]], dtype=float32)>"
      ]
     },
     "execution_count": 46,
     "metadata": {},
     "output_type": "execute_result"
    }
   ],
   "source": [
    "y_pred"
   ]
  },
  {
   "cell_type": "code",
   "execution_count": 48,
   "metadata": {},
   "outputs": [],
   "source": [
    "y_pred=tf.squeeze(y_pred)"
   ]
  },
  {
   "cell_type": "code",
   "execution_count": 50,
   "metadata": {},
   "outputs": [
    {
     "data": {
      "text/plain": [
       "<tf.Tensor: shape=(), dtype=float32, numpy=11.876073>"
      ]
     },
     "execution_count": 50,
     "metadata": {},
     "output_type": "execute_result"
    }
   ],
   "source": [
    "#Calculating the mean absolute error\n",
    "tf.metrics.mean_absolute_error(y_test,y_pred)"
   ]
  },
  {
   "cell_type": "code",
   "execution_count": 51,
   "metadata": {},
   "outputs": [
    {
     "data": {
      "text/plain": [
       "<tf.Tensor: shape=(), dtype=float32, numpy=143.08012>"
      ]
     },
     "execution_count": 51,
     "metadata": {},
     "output_type": "execute_result"
    }
   ],
   "source": [
    "#Calculating the mean squared error\n",
    "tf.metrics.mean_squared_error(y_test,y_pred)"
   ]
  },
  {
   "cell_type": "code",
   "execution_count": 52,
   "metadata": {},
   "outputs": [
    {
     "name": "stdout",
     "output_type": "stream",
     "text": [
      "Epoch 1/100\n",
      "3/3 [==============================] - 0s 2ms/step - loss: 48.8358 - mae: 48.8358\n",
      "Epoch 2/100\n",
      "3/3 [==============================] - 0s 3ms/step - loss: 9.2782 - mae: 9.2782\n",
      "Epoch 3/100\n",
      "3/3 [==============================] - 0s 3ms/step - loss: 9.4715 - mae: 9.4715\n",
      "Epoch 4/100\n",
      "3/3 [==============================] - 0s 2ms/step - loss: 8.9206 - mae: 8.9206\n",
      "Epoch 5/100\n",
      "3/3 [==============================] - 0s 3ms/step - loss: 9.9230 - mae: 9.9230\n",
      "Epoch 6/100\n",
      "3/3 [==============================] - 0s 4ms/step - loss: 8.0761 - mae: 8.0761\n",
      "Epoch 7/100\n",
      "3/3 [==============================] - 0s 4ms/step - loss: 9.8688 - mae: 9.8688\n",
      "Epoch 8/100\n",
      "3/3 [==============================] - 0s 3ms/step - loss: 10.1032 - mae: 10.1032\n",
      "Epoch 9/100\n",
      "3/3 [==============================] - 0s 3ms/step - loss: 8.5867 - mae: 8.5867\n",
      "Epoch 10/100\n",
      "3/3 [==============================] - 0s 3ms/step - loss: 10.4295 - mae: 10.4295\n",
      "Epoch 11/100\n",
      "3/3 [==============================] - 0s 4ms/step - loss: 8.8746 - mae: 8.8746\n",
      "Epoch 12/100\n",
      "3/3 [==============================] - 0s 3ms/step - loss: 7.5982 - mae: 7.5982\n",
      "Epoch 13/100\n",
      "3/3 [==============================] - 0s 3ms/step - loss: 10.3762 - mae: 10.3762\n",
      "Epoch 14/100\n",
      "3/3 [==============================] - 0s 3ms/step - loss: 7.4489 - mae: 7.4489\n",
      "Epoch 15/100\n",
      "3/3 [==============================] - 0s 4ms/step - loss: 10.4128 - mae: 10.4128\n",
      "Epoch 16/100\n",
      "3/3 [==============================] - 0s 4ms/step - loss: 7.8884 - mae: 7.8884\n",
      "Epoch 17/100\n",
      "3/3 [==============================] - 0s 2ms/step - loss: 9.4008 - mae: 9.4008\n",
      "Epoch 18/100\n",
      "3/3 [==============================] - 0s 2ms/step - loss: 9.0328 - mae: 9.0328\n",
      "Epoch 19/100\n",
      "3/3 [==============================] - 0s 2ms/step - loss: 9.2506 - mae: 9.2506\n",
      "Epoch 20/100\n",
      "3/3 [==============================] - 0s 3ms/step - loss: 9.1442 - mae: 9.1442\n",
      "Epoch 21/100\n",
      "3/3 [==============================] - 0s 4ms/step - loss: 9.7132 - mae: 9.7132\n",
      "Epoch 22/100\n",
      "3/3 [==============================] - 0s 3ms/step - loss: 9.0399 - mae: 9.0399\n",
      "Epoch 23/100\n",
      "3/3 [==============================] - 0s 3ms/step - loss: 9.6537 - mae: 9.6537\n",
      "Epoch 24/100\n",
      "3/3 [==============================] - 0s 3ms/step - loss: 8.9510 - mae: 8.9510\n",
      "Epoch 25/100\n",
      "3/3 [==============================] - 0s 3ms/step - loss: 8.8646 - mae: 8.8646\n",
      "Epoch 26/100\n",
      "3/3 [==============================] - 0s 3ms/step - loss: 9.0403 - mae: 9.0403\n",
      "Epoch 27/100\n",
      "3/3 [==============================] - 0s 3ms/step - loss: 8.8481 - mae: 8.8481\n",
      "Epoch 28/100\n",
      "3/3 [==============================] - 0s 2ms/step - loss: 8.6918 - mae: 8.6918\n",
      "Epoch 29/100\n",
      "3/3 [==============================] - 0s 3ms/step - loss: 9.1577 - mae: 9.1577\n",
      "Epoch 30/100\n",
      "3/3 [==============================] - 0s 2ms/step - loss: 10.2131 - mae: 10.2131\n",
      "Epoch 31/100\n",
      "3/3 [==============================] - 0s 2ms/step - loss: 8.5775 - mae: 8.5775\n",
      "Epoch 32/100\n",
      "3/3 [==============================] - 0s 3ms/step - loss: 8.0484 - mae: 8.0484\n",
      "Epoch 33/100\n",
      "3/3 [==============================] - 0s 3ms/step - loss: 8.3718 - mae: 8.3718\n",
      "Epoch 34/100\n",
      "3/3 [==============================] - 0s 2ms/step - loss: 8.1510 - mae: 8.1510\n",
      "Epoch 35/100\n",
      "3/3 [==============================] - 0s 5ms/step - loss: 8.9962 - mae: 8.9962\n",
      "Epoch 36/100\n",
      "3/3 [==============================] - 0s 3ms/step - loss: 9.4035 - mae: 9.4035\n",
      "Epoch 37/100\n",
      "3/3 [==============================] - 0s 3ms/step - loss: 6.5800 - mae: 6.5800\n",
      "Epoch 38/100\n",
      "3/3 [==============================] - 0s 4ms/step - loss: 10.3669 - mae: 10.3669\n",
      "Epoch 39/100\n",
      "3/3 [==============================] - 0s 3ms/step - loss: 7.9203 - mae: 7.9203\n",
      "Epoch 40/100\n",
      "3/3 [==============================] - 0s 2ms/step - loss: 9.6801 - mae: 9.6801\n",
      "Epoch 41/100\n",
      "3/3 [==============================] - 0s 2ms/step - loss: 7.5209 - mae: 7.5209\n",
      "Epoch 42/100\n",
      "3/3 [==============================] - 0s 3ms/step - loss: 9.6547 - mae: 9.6547\n",
      "Epoch 43/100\n",
      "3/3 [==============================] - 0s 3ms/step - loss: 6.8064 - mae: 6.8064\n",
      "Epoch 44/100\n",
      "3/3 [==============================] - 0s 2ms/step - loss: 9.1441 - mae: 9.1441\n",
      "Epoch 45/100\n",
      "3/3 [==============================] - 0s 5ms/step - loss: 9.9074 - mae: 9.9074\n",
      "Epoch 46/100\n",
      "3/3 [==============================] - 0s 3ms/step - loss: 8.1130 - mae: 8.1130\n",
      "Epoch 47/100\n",
      "3/3 [==============================] - 0s 2ms/step - loss: 8.7649 - mae: 8.7649\n",
      "Epoch 48/100\n",
      "3/3 [==============================] - 0s 2ms/step - loss: 9.0829 - mae: 9.0829\n",
      "Epoch 49/100\n",
      "3/3 [==============================] - 0s 3ms/step - loss: 7.7937 - mae: 7.7937\n",
      "Epoch 50/100\n",
      "3/3 [==============================] - 0s 2ms/step - loss: 9.2907 - mae: 9.2907\n",
      "Epoch 51/100\n",
      "3/3 [==============================] - 0s 4ms/step - loss: 8.2645 - mae: 8.2645\n",
      "Epoch 52/100\n",
      "3/3 [==============================] - 0s 2ms/step - loss: 9.5762 - mae: 9.5762\n",
      "Epoch 53/100\n",
      "3/3 [==============================] - 0s 4ms/step - loss: 8.1217 - mae: 8.1217\n",
      "Epoch 54/100\n",
      "3/3 [==============================] - 0s 2ms/step - loss: 10.2495 - mae: 10.2495\n",
      "Epoch 55/100\n",
      "3/3 [==============================] - 0s 3ms/step - loss: 8.8304 - mae: 8.8304\n",
      "Epoch 56/100\n",
      "3/3 [==============================] - 0s 2ms/step - loss: 9.5987 - mae: 9.5987\n",
      "Epoch 57/100\n",
      "3/3 [==============================] - 0s 2ms/step - loss: 6.3371 - mae: 6.3371\n",
      "Epoch 58/100\n",
      "3/3 [==============================] - 0s 3ms/step - loss: 7.8574 - mae: 7.8574\n",
      "Epoch 59/100\n",
      "3/3 [==============================] - 0s 2ms/step - loss: 9.5074 - mae: 9.5074\n",
      "Epoch 60/100\n",
      "3/3 [==============================] - 0s 2ms/step - loss: 9.3311 - mae: 9.3311\n",
      "Epoch 61/100\n",
      "3/3 [==============================] - 0s 2ms/step - loss: 9.0314 - mae: 9.0314\n",
      "Epoch 62/100\n",
      "3/3 [==============================] - 0s 2ms/step - loss: 9.7041 - mae: 9.7041\n",
      "Epoch 63/100\n",
      "3/3 [==============================] - 0s 4ms/step - loss: 9.9366 - mae: 9.9366\n",
      "Epoch 64/100\n",
      "3/3 [==============================] - 0s 2ms/step - loss: 7.7763 - mae: 7.7763\n",
      "Epoch 65/100\n",
      "3/3 [==============================] - 0s 3ms/step - loss: 10.1012 - mae: 10.1012\n",
      "Epoch 66/100\n",
      "3/3 [==============================] - 0s 2ms/step - loss: 9.3787 - mae: 9.3787\n",
      "Epoch 67/100\n",
      "3/3 [==============================] - 0s 2ms/step - loss: 7.9869 - mae: 7.9869\n",
      "Epoch 68/100\n",
      "3/3 [==============================] - 0s 3ms/step - loss: 9.2445 - mae: 9.2445\n",
      "Epoch 69/100\n",
      "3/3 [==============================] - 0s 2ms/step - loss: 8.6117 - mae: 8.6117\n",
      "Epoch 70/100\n",
      "3/3 [==============================] - 0s 3ms/step - loss: 8.9194 - mae: 8.9194\n",
      "Epoch 71/100\n",
      "3/3 [==============================] - 0s 2ms/step - loss: 9.6825 - mae: 9.6825\n",
      "Epoch 72/100\n",
      "3/3 [==============================] - 0s 3ms/step - loss: 8.0528 - mae: 8.0528\n",
      "Epoch 73/100\n",
      "3/3 [==============================] - 0s 2ms/step - loss: 9.8070 - mae: 9.8070\n",
      "Epoch 74/100\n",
      "3/3 [==============================] - 0s 2ms/step - loss: 7.4854 - mae: 7.4854\n",
      "Epoch 75/100\n",
      "3/3 [==============================] - 0s 3ms/step - loss: 9.2882 - mae: 9.2882\n",
      "Epoch 76/100\n",
      "3/3 [==============================] - 0s 2ms/step - loss: 9.0380 - mae: 9.0380\n",
      "Epoch 77/100\n",
      "3/3 [==============================] - 0s 2ms/step - loss: 8.6238 - mae: 8.6238\n",
      "Epoch 78/100\n",
      "3/3 [==============================] - 0s 5ms/step - loss: 9.0739 - mae: 9.0739\n",
      "Epoch 79/100\n",
      "3/3 [==============================] - 0s 2ms/step - loss: 9.3150 - mae: 9.3150\n",
      "Epoch 80/100\n",
      "3/3 [==============================] - 0s 3ms/step - loss: 9.8840 - mae: 9.8840\n",
      "Epoch 81/100\n",
      "3/3 [==============================] - 0s 2ms/step - loss: 7.3549 - mae: 7.3549\n",
      "Epoch 82/100\n",
      "3/3 [==============================] - 0s 4ms/step - loss: 8.9386 - mae: 8.9386\n",
      "Epoch 83/100\n",
      "3/3 [==============================] - 0s 2ms/step - loss: 9.0816 - mae: 9.0816\n",
      "Epoch 84/100\n",
      "3/3 [==============================] - 0s 3ms/step - loss: 10.0214 - mae: 10.0214\n",
      "Epoch 85/100\n",
      "3/3 [==============================] - 0s 2ms/step - loss: 8.5708 - mae: 8.5708\n",
      "Epoch 86/100\n",
      "3/3 [==============================] - 0s 3ms/step - loss: 9.8954 - mae: 9.8954\n",
      "Epoch 87/100\n",
      "3/3 [==============================] - 0s 2ms/step - loss: 5.5508 - mae: 5.5508\n",
      "Epoch 88/100\n",
      "3/3 [==============================] - 0s 3ms/step - loss: 8.9109 - mae: 8.9109\n",
      "Epoch 89/100\n",
      "3/3 [==============================] - 0s 3ms/step - loss: 8.7605 - mae: 8.7605\n",
      "Epoch 90/100\n",
      "3/3 [==============================] - 0s 2ms/step - loss: 10.1009 - mae: 10.1009\n",
      "Epoch 91/100\n",
      "3/3 [==============================] - 0s 2ms/step - loss: 8.1241 - mae: 8.1241\n",
      "Epoch 92/100\n",
      "3/3 [==============================] - 0s 3ms/step - loss: 9.1724 - mae: 9.1724\n",
      "Epoch 93/100\n",
      "3/3 [==============================] - 0s 2ms/step - loss: 6.9487 - mae: 6.9487\n",
      "Epoch 94/100\n",
      "3/3 [==============================] - 0s 2ms/step - loss: 8.8498 - mae: 8.8498\n",
      "Epoch 95/100\n",
      "3/3 [==============================] - 0s 3ms/step - loss: 9.5414 - mae: 9.5414\n",
      "Epoch 96/100\n",
      "3/3 [==============================] - 0s 3ms/step - loss: 9.0819 - mae: 9.0819\n",
      "Epoch 97/100\n",
      "3/3 [==============================] - 0s 3ms/step - loss: 9.3706 - mae: 9.3706\n",
      "Epoch 98/100\n",
      "3/3 [==============================] - 0s 2ms/step - loss: 7.1098 - mae: 7.1098\n",
      "Epoch 99/100\n",
      "3/3 [==============================] - 0s 3ms/step - loss: 9.1577 - mae: 9.1577\n",
      "Epoch 100/100\n",
      "3/3 [==============================] - 0s 2ms/step - loss: 8.2329 - mae: 8.2329\n"
     ]
    },
    {
     "data": {
      "text/plain": [
       "<keras.callbacks.History at 0x166cb72f160>"
      ]
     },
     "execution_count": 52,
     "metadata": {},
     "output_type": "execute_result"
    }
   ],
   "source": [
    "#Let's Create different models and experiment in order to reduce the error\n",
    "\n",
    "#Model_1\n",
    "\n",
    "#1. Create model\n",
    "model_1=tf.keras.Sequential([\n",
    "    tf.keras.layers.Dense(1)\n",
    "])\n",
    "\n",
    "#2. Compiling model\n",
    "model_1.compile(\n",
    "    loss=tf.keras.losses.mae,\n",
    "    optimizer=tf.keras.optimizers.SGD(),\n",
    "    metrics=[\"mae\"]\n",
    ")\n",
    "\n",
    "#3. Fitting the model\n",
    "model_1.fit(tf.expand_dims(X_train,axis=-1),y_train,epochs=100)"
   ]
  },
  {
   "cell_type": "code",
   "execution_count": 53,
   "metadata": {},
   "outputs": [
    {
     "name": "stdout",
     "output_type": "stream",
     "text": [
      "1/1 [==============================] - 0s 52ms/step\n"
     ]
    }
   ],
   "source": [
    "y_pred_1=model_1.predict(X_test)"
   ]
  },
  {
   "cell_type": "code",
   "execution_count": 54,
   "metadata": {},
   "outputs": [
    {
     "data": {
      "image/png": "[encoded data removed]",
      "text/plain": [
       "<Figure size 1000x700 with 1 Axes>"
      ]
     },
     "metadata": {},
     "output_type": "display_data"
    }
   ],
   "source": [
    "plot_predictions(X_train,y_train,X_test,y_test,y_pred_1)"
   ]
  },
  {
   "cell_type": "code",
   "execution_count": 56,
   "metadata": {},
   "outputs": [
    {
     "data": {
      "text/plain": [
       "<tf.Tensor: shape=(), dtype=float32, numpy=18.403381>"
      ]
     },
     "execution_count": 56,
     "metadata": {},
     "output_type": "execute_result"
    }
   ],
   "source": [
    "# Mean absolute error\n",
    "tf.metrics.mean_absolute_error(y_test,tf.squeeze(y_pred_1))"
   ]
  },
  {
   "cell_type": "code",
   "execution_count": 57,
   "metadata": {},
   "outputs": [
    {
     "data": {
      "text/plain": [
       "<tf.Tensor: shape=(), dtype=float32, numpy=347.9029>"
      ]
     },
     "execution_count": 57,
     "metadata": {},
     "output_type": "execute_result"
    }
   ],
   "source": [
    "# Mean squared error\n",
    "tf.metrics.mean_squared_error(y_test,tf.squeeze(y_pred_1))"
   ]
  },
  {
   "cell_type": "code",
   "execution_count": 58,
   "metadata": {},
   "outputs": [
    {
     "name": "stdout",
     "output_type": "stream",
     "text": [
      "Epoch 1/500\n",
      "1/1 [==============================] - 0s 352ms/step - loss: 92.0323 - mae: 92.0323\n",
      "Epoch 2/500\n",
      "1/1 [==============================] - 0s 4ms/step - loss: 47.1861 - mae: 47.1861\n",
      "Epoch 3/500\n",
      "1/1 [==============================] - 0s 5ms/step - loss: 83.4168 - mae: 83.4168\n",
      "Epoch 4/500\n",
      "1/1 [==============================] - 0s 5ms/step - loss: 63.7470 - mae: 63.7470\n",
      "Epoch 5/500\n",
      "1/1 [==============================] - 0s 5ms/step - loss: 22.9594 - mae: 22.9594\n",
      "Epoch 6/500\n",
      "1/1 [==============================] - 0s 6ms/step - loss: 107.1512 - mae: 107.1512\n",
      "Epoch 7/500\n",
      "1/1 [==============================] - 0s 4ms/step - loss: 73.6448 - mae: 73.6448\n",
      "Epoch 8/500\n",
      "1/1 [==============================] - 0s 5ms/step - loss: 55.2612 - mae: 55.2612\n",
      "Epoch 9/500\n",
      "1/1 [==============================] - 0s 7ms/step - loss: 3.6236 - mae: 3.6236\n",
      "Epoch 10/500\n",
      "1/1 [==============================] - 0s 5ms/step - loss: 78.1980 - mae: 78.1980\n",
      "Epoch 11/500\n",
      "1/1 [==============================] - 0s 5ms/step - loss: 69.8734 - mae: 69.8734\n",
      "Epoch 12/500\n",
      "1/1 [==============================] - 0s 5ms/step - loss: 43.2206 - mae: 43.2206\n",
      "Epoch 13/500\n",
      "1/1 [==============================] - 0s 5ms/step - loss: 42.1615 - mae: 42.1615\n",
      "Epoch 14/500\n",
      "1/1 [==============================] - 0s 4ms/step - loss: 76.4804 - mae: 76.4804\n",
      "Epoch 15/500\n",
      "1/1 [==============================] - 0s 5ms/step - loss: 64.4137 - mae: 64.4137\n",
      "Epoch 16/500\n",
      "1/1 [==============================] - 0s 4ms/step - loss: 25.7699 - mae: 25.7699\n",
      "Epoch 17/500\n",
      "1/1 [==============================] - 0s 5ms/step - loss: 98.0353 - mae: 98.0353\n",
      "Epoch 18/500\n",
      "1/1 [==============================] - 0s 3ms/step - loss: 73.9987 - mae: 73.9987\n",
      "Epoch 19/500\n",
      "1/1 [==============================] - 0s 4ms/step - loss: 56.5057 - mae: 56.5057\n",
      "Epoch 20/500\n",
      "1/1 [==============================] - 0s 4ms/step - loss: 0.4902 - mae: 0.4902\n",
      "Epoch 21/500\n",
      "1/1 [==============================] - 0s 5ms/step - loss: 125.5458 - mae: 125.5458\n",
      "Epoch 22/500\n",
      "1/1 [==============================] - 0s 5ms/step - loss: 72.7691 - mae: 72.7691\n",
      "Epoch 23/500\n",
      "1/1 [==============================] - 0s 4ms/step - loss: 52.6050 - mae: 52.6050\n",
      "Epoch 24/500\n",
      "1/1 [==============================] - 0s 5ms/step - loss: 11.9851 - mae: 11.9851\n",
      "Epoch 25/500\n",
      "1/1 [==============================] - 0s 5ms/step - loss: 77.7645 - mae: 77.7645\n",
      "Epoch 26/500\n",
      "1/1 [==============================] - 0s 3ms/step - loss: 68.6341 - mae: 68.6341\n",
      "Epoch 27/500\n",
      "1/1 [==============================] - 0s 4ms/step - loss: 39.3995 - mae: 39.3995\n",
      "Epoch 28/500\n",
      "1/1 [==============================] - 0s 7ms/step - loss: 54.2558 - mae: 54.2558\n",
      "Epoch 29/500\n",
      "1/1 [==============================] - 0s 4ms/step - loss: 75.8824 - mae: 75.8824\n",
      "Epoch 30/500\n",
      "1/1 [==============================] - 0s 4ms/step - loss: 62.6473 - mae: 62.6473\n",
      "Epoch 31/500\n",
      "1/1 [==============================] - 0s 4ms/step - loss: 20.2597 - mae: 20.2597\n",
      "Epoch 32/500\n",
      "1/1 [==============================] - 0s 5ms/step - loss: 115.5419 - mae: 115.5419\n",
      "Epoch 33/500\n",
      "1/1 [==============================] - 0s 4ms/step - loss: 73.1622 - mae: 73.1622\n",
      "Epoch 34/500\n",
      "1/1 [==============================] - 0s 4ms/step - loss: 53.9749 - mae: 53.9749\n",
      "Epoch 35/500\n",
      "1/1 [==============================] - 0s 5ms/step - loss: 7.4853 - mae: 7.4853\n",
      "Epoch 36/500\n",
      "1/1 [==============================] - 0s 4ms/step - loss: 77.9150 - mae: 77.9150\n",
      "Epoch 37/500\n",
      "1/1 [==============================] - 0s 8ms/step - loss: 69.2267 - mae: 69.2267\n",
      "Epoch 38/500\n",
      "1/1 [==============================] - 0s 4ms/step - loss: 41.4085 - mae: 41.4085\n",
      "Epoch 39/500\n",
      "1/1 [==============================] - 0s 5ms/step - loss: 47.7082 - mae: 47.7082\n",
      "Epoch 40/500\n",
      "1/1 [==============================] - 0s 5ms/step - loss: 76.1232 - mae: 76.1232\n",
      "Epoch 41/500\n",
      "1/1 [==============================] - 0s 5ms/step - loss: 63.5290 - mae: 63.5290\n",
      "Epoch 42/500\n",
      "1/1 [==============================] - 0s 6ms/step - loss: 23.1953 - mae: 23.1953\n",
      "Epoch 43/500\n",
      "1/1 [==============================] - 0s 6ms/step - loss: 106.0251 - mae: 106.0251\n",
      "Epoch 44/500\n",
      "1/1 [==============================] - 0s 9ms/step - loss: 73.5338 - mae: 73.5338\n",
      "Epoch 45/500\n",
      "1/1 [==============================] - 0s 5ms/step - loss: 55.2760 - mae: 55.2760\n",
      "Epoch 46/500\n",
      "1/1 [==============================] - 0s 5ms/step - loss: 3.2060 - mae: 3.2060\n",
      "Epoch 47/500\n",
      "1/1 [==============================] - 0s 4ms/step - loss: 78.0558 - mae: 78.0558\n",
      "Epoch 48/500\n",
      "1/1 [==============================] - 0s 6ms/step - loss: 69.7881 - mae: 69.7881\n",
      "Epoch 49/500\n",
      "1/1 [==============================] - 0s 4ms/step - loss: 43.3176 - mae: 43.3176\n",
      "Epoch 50/500\n",
      "1/1 [==============================] - 0s 5ms/step - loss: 41.4806 - mae: 41.4806\n",
      "Epoch 51/500\n",
      "1/1 [==============================] - 0s 4ms/step - loss: 76.3498 - mae: 76.3498\n",
      "Epoch 52/500\n",
      "1/1 [==============================] - 0s 7ms/step - loss: 64.3656 - mae: 64.3656\n",
      "Epoch 53/500\n",
      "1/1 [==============================] - 0s 3ms/step - loss: 25.9861 - mae: 25.9861\n",
      "Epoch 54/500\n",
      "1/1 [==============================] - 0s 5ms/step - loss: 96.9721 - mae: 96.9721\n",
      "Epoch 55/500\n",
      "1/1 [==============================] - 0s 4ms/step - loss: 73.8850 - mae: 73.8850\n",
      "Epoch 56/500\n",
      "1/1 [==============================] - 0s 4ms/step - loss: 56.5116 - mae: 56.5116\n",
      "Epoch 57/500\n",
      "1/1 [==============================] - 0s 4ms/step - loss: 0.8635 - mae: 0.8635\n",
      "Epoch 58/500\n",
      "1/1 [==============================] - 0s 5ms/step - loss: 177.4292 - mae: 177.4292\n",
      "Epoch 59/500\n",
      "1/1 [==============================] - 0s 6ms/step - loss: 70.3199 - mae: 70.3199\n",
      "Epoch 60/500\n",
      "1/1 [==============================] - 0s 6ms/step - loss: 45.1318 - mae: 45.1318\n",
      "Epoch 61/500\n",
      "1/1 [==============================] - 0s 6ms/step - loss: 35.5571 - mae: 35.5571\n",
      "Epoch 62/500\n",
      "1/1 [==============================] - 0s 6ms/step - loss: 76.5631 - mae: 76.5631\n",
      "Epoch 63/500\n",
      "1/1 [==============================] - 0s 5ms/step - loss: 65.1592 - mae: 65.1592\n",
      "Epoch 64/500\n",
      "1/1 [==============================] - 0s 5ms/step - loss: 28.6393 - mae: 28.6393\n",
      "Epoch 65/500\n",
      "1/1 [==============================] - 0s 4ms/step - loss: 88.3602 - mae: 88.3602\n",
      "Epoch 66/500\n",
      "1/1 [==============================] - 0s 5ms/step - loss: 74.2168 - mae: 74.2168\n",
      "Epoch 67/500\n",
      "1/1 [==============================] - 0s 4ms/step - loss: 57.6849 - mae: 57.6849\n",
      "Epoch 68/500\n",
      "1/1 [==============================] - 0s 4ms/step - loss: 4.7333 - mae: 4.7333\n",
      "Epoch 69/500\n",
      "1/1 [==============================] - 0s 4ms/step - loss: 164.9189 - mae: 164.9189\n",
      "Epoch 70/500\n",
      "1/1 [==============================] - 0s 5ms/step - loss: 70.8235 - mae: 70.8235\n",
      "Epoch 71/500\n",
      "1/1 [==============================] - 0s 4ms/step - loss: 46.8556 - mae: 46.8556\n",
      "Epoch 72/500\n",
      "1/1 [==============================] - 0s 4ms/step - loss: 29.9231 - mae: 29.9231\n",
      "Epoch 73/500\n",
      "1/1 [==============================] - 0s 5ms/step - loss: 76.7636 - mae: 76.7636\n",
      "Epoch 74/500\n",
      "1/1 [==============================] - 0s 5ms/step - loss: 65.9119 - mae: 65.9119\n",
      "Epoch 75/500\n",
      "1/1 [==============================] - 0s 4ms/step - loss: 31.1615 - mae: 31.1615\n",
      "Epoch 76/500\n",
      "1/1 [==============================] - 0s 5ms/step - loss: 80.1680 - mae: 80.1680\n",
      "Epoch 77/500\n",
      "1/1 [==============================] - 0s 4ms/step - loss: 74.5300 - mae: 74.5300\n",
      "Epoch 78/500\n",
      "1/1 [==============================] - 0s 4ms/step - loss: 58.7989 - mae: 58.7989\n",
      "Epoch 79/500\n",
      "1/1 [==============================] - 0s 4ms/step - loss: 8.4131 - mae: 8.4131\n",
      "Epoch 80/500\n",
      "1/1 [==============================] - 0s 5ms/step - loss: 153.0173 - mae: 153.0173\n",
      "Epoch 81/500\n",
      "1/1 [==============================] - 0s 5ms/step - loss: 71.3002 - mae: 71.3002\n",
      "Epoch 82/500\n",
      "1/1 [==============================] - 0s 4ms/step - loss: 48.4935 - mae: 48.4935\n",
      "Epoch 83/500\n",
      "1/1 [==============================] - 0s 6ms/step - loss: 24.5646 - mae: 24.5646\n",
      "Epoch 84/500\n",
      "1/1 [==============================] - 0s 4ms/step - loss: 76.9520 - mae: 76.9520\n",
      "Epoch 85/500\n",
      "1/1 [==============================] - 0s 5ms/step - loss: 66.6257 - mae: 66.6257\n",
      "Epoch 86/500\n",
      "1/1 [==============================] - 0s 4ms/step - loss: 33.5591 - mae: 33.5591\n",
      "Epoch 87/500\n",
      "1/1 [==============================] - 0s 4ms/step - loss: 72.3752 - mae: 72.3752\n",
      "Epoch 88/500\n",
      "1/1 [==============================] - 0s 4ms/step - loss: 74.8257 - mae: 74.8257\n",
      "Epoch 89/500\n",
      "1/1 [==============================] - 0s 4ms/step - loss: 59.8565 - mae: 59.8565\n",
      "Epoch 90/500\n",
      "1/1 [==============================] - 0s 6ms/step - loss: 11.9122 - mae: 11.9122\n",
      "Epoch 91/500\n",
      "1/1 [==============================] - 0s 5ms/step - loss: 141.6948 - mae: 141.6948\n",
      "Epoch 92/500\n",
      "1/1 [==============================] - 0s 4ms/step - loss: 71.7514 - mae: 71.7514\n",
      "Epoch 93/500\n",
      "1/1 [==============================] - 0s 5ms/step - loss: 50.0496 - mae: 50.0496\n",
      "Epoch 94/500\n",
      "1/1 [==============================] - 0s 4ms/step - loss: 19.4681 - mae: 19.4681\n",
      "Epoch 95/500\n",
      "1/1 [==============================] - 0s 4ms/step - loss: 77.1288 - mae: 77.1288\n",
      "Epoch 96/500\n",
      "1/1 [==============================] - 0s 6ms/step - loss: 67.3026 - mae: 67.3026\n",
      "Epoch 97/500\n",
      "1/1 [==============================] - 0s 5ms/step - loss: 35.8381 - mae: 35.8381\n",
      "Epoch 98/500\n",
      "1/1 [==============================] - 0s 5ms/step - loss: 64.9625 - mae: 64.9625\n",
      "Epoch 99/500\n",
      "1/1 [==============================] - 0s 5ms/step - loss: 75.1046 - mae: 75.1046\n",
      "Epoch 100/500\n",
      "1/1 [==============================] - 0s 8ms/step - loss: 60.8604 - mae: 60.8604\n",
      "Epoch 101/500\n",
      "1/1 [==============================] - 0s 4ms/step - loss: 15.2393 - mae: 15.2393\n",
      "Epoch 102/500\n",
      "1/1 [==============================] - 0s 5ms/step - loss: 130.9234 - mae: 130.9234\n",
      "Epoch 103/500\n",
      "1/1 [==============================] - 0s 6ms/step - loss: 72.1784 - mae: 72.1784\n",
      "Epoch 104/500\n",
      "1/1 [==============================] - 0s 4ms/step - loss: 51.5278 - mae: 51.5278\n",
      "Epoch 105/500\n",
      "1/1 [==============================] - 0s 4ms/step - loss: 14.6211 - mae: 14.6211\n",
      "Epoch 106/500\n",
      "1/1 [==============================] - 0s 4ms/step - loss: 77.2946 - mae: 77.2946\n",
      "Epoch 107/500\n",
      "1/1 [==============================] - 0s 4ms/step - loss: 67.9441 - mae: 67.9441\n",
      "Epoch 108/500\n",
      "1/1 [==============================] - 0s 4ms/step - loss: 38.0041 - mae: 38.0041\n",
      "Epoch 109/500\n",
      "1/1 [==============================] - 0s 4ms/step - loss: 57.9116 - mae: 57.9116\n",
      "Epoch 110/500\n",
      "1/1 [==============================] - 0s 4ms/step - loss: 75.3676 - mae: 75.3676\n",
      "Epoch 111/500\n",
      "1/1 [==============================] - 0s 4ms/step - loss: 61.8132 - mae: 61.8132\n",
      "Epoch 112/500\n",
      "1/1 [==============================] - 0s 5ms/step - loss: 18.4027 - mae: 18.4027\n",
      "Epoch 113/500\n",
      "1/1 [==============================] - 0s 6ms/step - loss: 120.6766 - mae: 120.6766\n",
      "Epoch 114/500\n",
      "1/1 [==============================] - 0s 4ms/step - loss: 72.5822 - mae: 72.5822\n",
      "Epoch 115/500\n",
      "1/1 [==============================] - 0s 5ms/step - loss: 52.9320 - mae: 52.9320\n",
      "Epoch 116/500\n",
      "1/1 [==============================] - 0s 4ms/step - loss: 10.0115 - mae: 10.0115\n",
      "Epoch 117/500\n",
      "1/1 [==============================] - 0s 4ms/step - loss: 77.4500 - mae: 77.4500\n",
      "Epoch 118/500\n",
      "1/1 [==============================] - 0s 4ms/step - loss: 68.5522 - mae: 68.5522\n",
      "Epoch 119/500\n",
      "1/1 [==============================] - 0s 3ms/step - loss: 40.0627 - mae: 40.0627\n",
      "Epoch 120/500\n",
      "1/1 [==============================] - 0s 4ms/step - loss: 51.2050 - mae: 51.2050\n",
      "Epoch 121/500\n",
      "1/1 [==============================] - 0s 4ms/step - loss: 75.6153 - mae: 75.6153\n",
      "Epoch 122/500\n",
      "1/1 [==============================] - 0s 5ms/step - loss: 62.7174 - mae: 62.7174\n",
      "Epoch 123/500\n",
      "1/1 [==============================] - 0s 4ms/step - loss: 21.4103 - mae: 21.4103\n",
      "Epoch 124/500\n",
      "1/1 [==============================] - 0s 3ms/step - loss: 110.9291 - mae: 110.9291\n",
      "Epoch 125/500\n",
      "1/1 [==============================] - 0s 4ms/step - loss: 72.9640 - mae: 72.9640\n",
      "Epoch 126/500\n",
      "1/1 [==============================] - 0s 4ms/step - loss: 54.2657 - mae: 54.2657\n",
      "Epoch 127/500\n",
      "1/1 [==============================] - 0s 5ms/step - loss: 5.6277 - mae: 5.6277\n",
      "Epoch 128/500\n",
      "1/1 [==============================] - 0s 4ms/step - loss: 77.5954 - mae: 77.5954\n",
      "Epoch 129/500\n",
      "1/1 [==============================] - 0s 5ms/step - loss: 69.1283 - mae: 69.1283\n",
      "Epoch 130/500\n",
      "1/1 [==============================] - 0s 4ms/step - loss: 42.0191 - mae: 42.0191\n",
      "Epoch 131/500\n",
      "1/1 [==============================] - 0s 5ms/step - loss: 44.8257 - mae: 44.8257\n",
      "Epoch 132/500\n",
      "1/1 [==============================] - 0s 4ms/step - loss: 75.8487 - mae: 75.8487\n",
      "Epoch 133/500\n",
      "1/1 [==============================] - 0s 4ms/step - loss: 63.5754 - mae: 63.5754\n",
      "Epoch 134/500\n",
      "1/1 [==============================] - 0s 4ms/step - loss: 24.2698 - mae: 24.2698\n",
      "Epoch 135/500\n",
      "1/1 [==============================] - 0s 5ms/step - loss: 101.6561 - mae: 101.6561\n",
      "Epoch 136/500\n",
      "1/1 [==============================] - 0s 4ms/step - loss: 73.3249 - mae: 73.3249\n",
      "Epoch 137/500\n",
      "1/1 [==============================] - 0s 4ms/step - loss: 55.5323 - mae: 55.5323\n",
      "Epoch 138/500\n",
      "1/1 [==============================] - 0s 4ms/step - loss: 1.4588 - mae: 1.4588\n",
      "Epoch 139/500\n",
      "1/1 [==============================] - 0s 3ms/step - loss: 77.7314 - mae: 77.7314\n",
      "Epoch 140/500\n",
      "1/1 [==============================] - 0s 4ms/step - loss: 69.6742 - mae: 69.6742\n",
      "Epoch 141/500\n",
      "1/1 [==============================] - 0s 4ms/step - loss: 43.8783 - mae: 43.8783\n",
      "Epoch 142/500\n",
      "1/1 [==============================] - 0s 6ms/step - loss: 38.7580 - mae: 38.7580\n",
      "Epoch 143/500\n",
      "1/1 [==============================] - 0s 4ms/step - loss: 76.0683 - mae: 76.0683\n",
      "Epoch 144/500\n",
      "1/1 [==============================] - 0s 4ms/step - loss: 64.3894 - mae: 64.3894\n",
      "Epoch 145/500\n",
      "1/1 [==============================] - 0s 4ms/step - loss: 26.9883 - mae: 26.9883\n",
      "Epoch 146/500\n",
      "1/1 [==============================] - 0s 4ms/step - loss: 92.8351 - mae: 92.8351\n",
      "Epoch 147/500\n",
      "1/1 [==============================] - 0s 5ms/step - loss: 73.6659 - mae: 73.6659\n",
      "Epoch 148/500\n",
      "1/1 [==============================] - 0s 8ms/step - loss: 56.7351 - mae: 56.7351\n",
      "Epoch 149/500\n",
      "1/1 [==============================] - 0s 30ms/step - loss: 2.5056 - mae: 2.5056\n",
      "Epoch 150/500\n",
      "1/1 [==============================] - 0s 5ms/step - loss: 171.2415 - mae: 171.2415\n",
      "Epoch 151/500\n",
      "1/1 [==============================] - 0s 8ms/step - loss: 70.1911 - mae: 70.1911\n",
      "Epoch 152/500\n",
      "1/1 [==============================] - 0s 6ms/step - loss: 45.6449 - mae: 45.6449\n",
      "Epoch 153/500\n",
      "1/1 [==============================] - 0s 4ms/step - loss: 32.9869 - mae: 32.9869\n",
      "Epoch 154/500\n",
      "1/1 [==============================] - 0s 5ms/step - loss: 76.2749 - mae: 76.2749\n",
      "Epoch 155/500\n",
      "1/1 [==============================] - 0s 3ms/step - loss: 65.1615 - mae: 65.1615\n",
      "Epoch 156/500\n",
      "1/1 [==============================] - 0s 4ms/step - loss: 29.5725 - mae: 29.5725\n",
      "Epoch 157/500\n",
      "1/1 [==============================] - 0s 4ms/step - loss: 84.4442 - mae: 84.4442\n",
      "Epoch 158/500\n",
      "1/1 [==============================] - 0s 4ms/step - loss: 73.9879 - mae: 73.9879\n",
      "Epoch 159/500\n",
      "1/1 [==============================] - 0s 4ms/step - loss: 57.8772 - mae: 57.8772\n",
      "Epoch 160/500\n",
      "1/1 [==============================] - 0s 4ms/step - loss: 6.2754 - mae: 6.2754\n",
      "Epoch 161/500\n",
      "1/1 [==============================] - 0s 4ms/step - loss: 159.0517 - mae: 159.0517\n",
      "Epoch 162/500\n",
      "1/1 [==============================] - 0s 4ms/step - loss: 70.6806 - mae: 70.6806\n",
      "Epoch 163/500\n",
      "1/1 [==============================] - 0s 4ms/step - loss: 47.3235 - mae: 47.3235\n",
      "Epoch 164/500\n",
      "1/1 [==============================] - 0s 7ms/step - loss: 27.4979 - mae: 27.4979\n",
      "Epoch 165/500\n",
      "1/1 [==============================] - 0s 6ms/step - loss: 76.4690 - mae: 76.4690\n",
      "Epoch 166/500\n",
      "1/1 [==============================] - 0s 5ms/step - loss: 65.8937 - mae: 65.8937\n",
      "Epoch 167/500\n",
      "1/1 [==============================] - 0s 5ms/step - loss: 32.0291 - mae: 32.0291\n",
      "Epoch 168/500\n",
      "1/1 [==============================] - 0s 3ms/step - loss: 76.4623 - mae: 76.4623\n",
      "Epoch 169/500\n",
      "1/1 [==============================] - 0s 5ms/step - loss: 74.2919 - mae: 74.2919\n",
      "Epoch 170/500\n",
      "1/1 [==============================] - 0s 3ms/step - loss: 58.9615 - mae: 58.9615\n",
      "Epoch 171/500\n",
      "1/1 [==============================] - 0s 3ms/step - loss: 9.8601 - mae: 9.8601\n",
      "Epoch 172/500\n",
      "1/1 [==============================] - 0s 4ms/step - loss: 147.4548 - mae: 147.4548\n",
      "Epoch 173/500\n",
      "1/1 [==============================] - 0s 4ms/step - loss: 71.1439 - mae: 71.1439\n",
      "Epoch 174/500\n",
      "1/1 [==============================] - 0s 6ms/step - loss: 48.9184 - mae: 48.9184\n",
      "Epoch 175/500\n",
      "1/1 [==============================] - 0s 4ms/step - loss: 22.2773 - mae: 22.2773\n",
      "Epoch 176/500\n",
      "1/1 [==============================] - 0s 5ms/step - loss: 76.6513 - mae: 76.6513\n",
      "Epoch 177/500\n",
      "1/1 [==============================] - 0s 4ms/step - loss: 66.5881 - mae: 66.5881\n",
      "Epoch 178/500\n",
      "1/1 [==============================] - 0s 7ms/step - loss: 34.3642 - mae: 34.3642\n",
      "Epoch 179/500\n",
      "1/1 [==============================] - 0s 5ms/step - loss: 68.8696 - mae: 68.8696\n",
      "Epoch 180/500\n",
      "1/1 [==============================] - 0s 6ms/step - loss: 74.5787 - mae: 74.5787\n",
      "Epoch 181/500\n",
      "1/1 [==============================] - 0s 5ms/step - loss: 59.9909 - mae: 59.9909\n",
      "Epoch 182/500\n",
      "1/1 [==============================] - 0s 5ms/step - loss: 13.2687 - mae: 13.2687\n",
      "Epoch 183/500\n",
      "1/1 [==============================] - 0s 4ms/step - loss: 136.4224 - mae: 136.4224\n",
      "Epoch 184/500\n",
      "1/1 [==============================] - 0s 5ms/step - loss: 71.5823 - mae: 71.5823\n",
      "Epoch 185/500\n",
      "1/1 [==============================] - 0s 4ms/step - loss: 50.4335 - mae: 50.4335\n",
      "Epoch 186/500\n",
      "1/1 [==============================] - 0s 4ms/step - loss: 17.3121 - mae: 17.3121\n",
      "Epoch 187/500\n",
      "1/1 [==============================] - 0s 5ms/step - loss: 76.8223 - mae: 76.8223\n",
      "Epoch 188/500\n",
      "1/1 [==============================] - 0s 5ms/step - loss: 67.2463 - mae: 67.2463\n",
      "Epoch 189/500\n",
      "1/1 [==============================] - 0s 3ms/step - loss: 36.5837 - mae: 36.5837\n",
      "Epoch 190/500\n",
      "1/1 [==============================] - 0s 4ms/step - loss: 61.6472 - mae: 61.6472\n",
      "Epoch 191/500\n",
      "1/1 [==============================] - 0s 7ms/step - loss: 74.8492 - mae: 74.8492\n",
      "Epoch 192/500\n",
      "1/1 [==============================] - 0s 28ms/step - loss: 60.9679 - mae: 60.9679\n",
      "Epoch 193/500\n",
      "1/1 [==============================] - 0s 6ms/step - loss: 16.5097 - mae: 16.5097\n",
      "Epoch 194/500\n",
      "1/1 [==============================] - 0s 5ms/step - loss: 125.9269 - mae: 125.9269\n",
      "Epoch 195/500\n",
      "1/1 [==============================] - 0s 6ms/step - loss: 71.9971 - mae: 71.9971\n",
      "Epoch 196/500\n",
      "1/1 [==============================] - 0s 5ms/step - loss: 51.8728 - mae: 51.8728\n",
      "Epoch 197/500\n",
      "1/1 [==============================] - 0s 4ms/step - loss: 12.5899 - mae: 12.5899\n",
      "Epoch 198/500\n",
      "1/1 [==============================] - 0s 4ms/step - loss: 76.9827 - mae: 76.9827\n",
      "Epoch 199/500\n",
      "1/1 [==============================] - 0s 4ms/step - loss: 67.8703 - mae: 67.8703\n",
      "Epoch 200/500\n",
      "1/1 [==============================] - 0s 4ms/step - loss: 38.6933 - mae: 38.6933\n",
      "Epoch 201/500\n",
      "1/1 [==============================] - 0s 4ms/step - loss: 54.7773 - mae: 54.7773\n",
      "Epoch 202/500\n",
      "1/1 [==============================] - 0s 4ms/step - loss: 75.1042 - mae: 75.1042\n",
      "Epoch 203/500\n",
      "1/1 [==============================] - 0s 4ms/step - loss: 61.8952 - mae: 61.8952\n",
      "Epoch 204/500\n",
      "1/1 [==============================] - 0s 4ms/step - loss: 19.5912 - mae: 19.5912\n",
      "Epoch 205/500\n",
      "1/1 [==============================] - 0s 5ms/step - loss: 115.9426 - mae: 115.9426\n",
      "Epoch 206/500\n",
      "1/1 [==============================] - 0s 4ms/step - loss: 72.3893 - mae: 72.3893\n",
      "Epoch 207/500\n",
      "1/1 [==============================] - 0s 5ms/step - loss: 53.2399 - mae: 53.2399\n",
      "Epoch 208/500\n",
      "1/1 [==============================] - 0s 3ms/step - loss: 8.0991 - mae: 8.0991\n",
      "Epoch 209/500\n",
      "1/1 [==============================] - 0s 4ms/step - loss: 77.1328 - mae: 77.1328\n",
      "Epoch 210/500\n",
      "1/1 [==============================] - 0s 4ms/step - loss: 68.4616 - mae: 68.4616\n",
      "Epoch 211/500\n",
      "1/1 [==============================] - 0s 3ms/step - loss: 40.6982 - mae: 40.6982\n",
      "Epoch 212/500\n",
      "1/1 [==============================] - 0s 5ms/step - loss: 48.2427 - mae: 48.2427\n",
      "Epoch 213/500\n",
      "1/1 [==============================] - 0s 4ms/step - loss: 75.3444 - mae: 75.3444\n",
      "Epoch 214/500\n",
      "1/1 [==============================] - 0s 5ms/step - loss: 62.7751 - mae: 62.7751\n",
      "Epoch 215/500\n",
      "1/1 [==============================] - 0s 4ms/step - loss: 22.5209 - mae: 22.5209\n",
      "Epoch 216/500\n",
      "1/1 [==============================] - 0s 4ms/step - loss: 106.4446 - mae: 106.4446\n",
      "Epoch 217/500\n",
      "1/1 [==============================] - 0s 4ms/step - loss: 72.7601 - mae: 72.7601\n",
      "Epoch 218/500\n",
      "1/1 [==============================] - 0s 4ms/step - loss: 54.5383 - mae: 54.5383\n",
      "Epoch 219/500\n",
      "1/1 [==============================] - 0s 6ms/step - loss: 3.8283 - mae: 3.8283\n",
      "Epoch 220/500\n",
      "1/1 [==============================] - 0s 4ms/step - loss: 77.2732 - mae: 77.2732\n",
      "Epoch 221/500\n",
      "1/1 [==============================] - 0s 4ms/step - loss: 69.0218 - mae: 69.0218\n",
      "Epoch 222/500\n",
      "1/1 [==============================] - 0s 4ms/step - loss: 42.6035 - mae: 42.6035\n",
      "Epoch 223/500\n",
      "1/1 [==============================] - 0s 5ms/step - loss: 42.0273 - mae: 42.0273\n",
      "Epoch 224/500\n",
      "1/1 [==============================] - 0s 7ms/step - loss: 75.5706 - mae: 75.5706\n",
      "Epoch 225/500\n",
      "1/1 [==============================] - 0s 4ms/step - loss: 63.6099 - mae: 63.6099\n",
      "Epoch 226/500\n",
      "1/1 [==============================] - 0s 6ms/step - loss: 25.3062 - mae: 25.3062\n",
      "Epoch 227/500\n",
      "1/1 [==============================] - 0s 5ms/step - loss: 97.4094 - mae: 97.4094\n",
      "Epoch 228/500\n",
      "1/1 [==============================] - 0s 34ms/step - loss: 73.1106 - mae: 73.1106\n",
      "Epoch 229/500\n",
      "1/1 [==============================] - 0s 6ms/step - loss: 55.7714 - mae: 55.7714\n",
      "Epoch 230/500\n",
      "1/1 [==============================] - 0s 5ms/step - loss: 0.2794 - mae: 0.2794\n",
      "Epoch 231/500\n",
      "1/1 [==============================] - 0s 7ms/step - loss: 59.7048 - mae: 59.7048\n",
      "Epoch 232/500\n",
      "1/1 [==============================] - 0s 5ms/step - loss: 74.7580 - mae: 74.7580\n",
      "Epoch 233/500\n",
      "1/1 [==============================] - 0s 5ms/step - loss: 61.0834 - mae: 61.0834\n",
      "Epoch 234/500\n",
      "1/1 [==============================] - 0s 4ms/step - loss: 17.2874 - mae: 17.2874\n",
      "Epoch 235/500\n",
      "1/1 [==============================] - 0s 5ms/step - loss: 123.0271 - mae: 123.0271\n",
      "Epoch 236/500\n",
      "1/1 [==============================] - 0s 4ms/step - loss: 71.9480 - mae: 71.9480\n",
      "Epoch 237/500\n",
      "1/1 [==============================] - 0s 5ms/step - loss: 52.1235 - mae: 52.1235\n",
      "Epoch 238/500\n",
      "1/1 [==============================] - 0s 4ms/step - loss: 11.3789 - mae: 11.3789\n",
      "Epoch 239/500\n",
      "1/1 [==============================] - 0s 5ms/step - loss: 76.8592 - mae: 76.8592\n",
      "Epoch 240/500\n",
      "1/1 [==============================] - 0s 5ms/step - loss: 67.8824 - mae: 67.8824\n",
      "Epoch 241/500\n",
      "1/1 [==============================] - 0s 6ms/step - loss: 39.1400 - mae: 39.1400\n",
      "Epoch 242/500\n",
      "1/1 [==============================] - 0s 5ms/step - loss: 52.9381 - mae: 52.9381\n",
      "Epoch 243/500\n",
      "1/1 [==============================] - 0s 5ms/step - loss: 75.0084 - mae: 75.0084\n",
      "Epoch 244/500\n",
      "1/1 [==============================] - 0s 4ms/step - loss: 61.9961 - mae: 61.9961\n",
      "Epoch 245/500\n",
      "1/1 [==============================] - 0s 5ms/step - loss: 20.3222 - mae: 20.3222\n",
      "Epoch 246/500\n",
      "1/1 [==============================] - 0s 5ms/step - loss: 113.1924 - mae: 113.1924\n",
      "Epoch 247/500\n",
      "1/1 [==============================] - 0s 5ms/step - loss: 72.3337 - mae: 72.3337\n",
      "Epoch 248/500\n",
      "1/1 [==============================] - 0s 5ms/step - loss: 53.4694 - mae: 53.4694\n",
      "Epoch 249/500\n",
      "1/1 [==============================] - 0s 6ms/step - loss: 6.9559 - mae: 6.9559\n",
      "Epoch 250/500\n",
      "1/1 [==============================] - 0s 5ms/step - loss: 77.0063 - mae: 77.0063\n",
      "Epoch 251/500\n",
      "1/1 [==============================] - 0s 5ms/step - loss: 68.4642 - mae: 68.4642\n",
      "Epoch 252/500\n",
      "1/1 [==============================] - 0s 4ms/step - loss: 41.1143 - mae: 41.1143\n",
      "Epoch 253/500\n",
      "1/1 [==============================] - 0s 5ms/step - loss: 46.5017 - mae: 46.5017\n",
      "Epoch 254/500\n",
      "1/1 [==============================] - 0s 4ms/step - loss: 75.2443 - mae: 75.2443\n",
      "Epoch 255/500\n",
      "1/1 [==============================] - 0s 6ms/step - loss: 62.8621 - mae: 62.8621\n",
      "Epoch 256/500\n",
      "1/1 [==============================] - 0s 4ms/step - loss: 23.2075 - mae: 23.2075\n",
      "Epoch 257/500\n",
      "1/1 [==============================] - 0s 4ms/step - loss: 103.8369 - mae: 103.8369\n",
      "Epoch 258/500\n",
      "1/1 [==============================] - 0s 4ms/step - loss: 72.6982 - mae: 72.6982\n",
      "Epoch 259/500\n",
      "1/1 [==============================] - 0s 4ms/step - loss: 54.7477 - mae: 54.7477\n",
      "Epoch 260/500\n",
      "1/1 [==============================] - 0s 5ms/step - loss: 2.7496 - mae: 2.7496\n",
      "Epoch 261/500\n",
      "1/1 [==============================] - 0s 20ms/step - loss: 77.1439 - mae: 77.1439\n",
      "Epoch 262/500\n",
      "1/1 [==============================] - 0s 8ms/step - loss: 69.0153 - mae: 69.0153\n",
      "Epoch 263/500\n",
      "1/1 [==============================] - 0s 5ms/step - loss: 42.9904 - mae: 42.9904\n",
      "Epoch 264/500\n",
      "1/1 [==============================] - 0s 5ms/step - loss: 40.3798 - mae: 40.3798\n",
      "Epoch 265/500\n",
      "1/1 [==============================] - 0s 6ms/step - loss: 75.4663 - mae: 75.4663\n",
      "Epoch 266/500\n",
      "1/1 [==============================] - 0s 4ms/step - loss: 63.6837 - mae: 63.6837\n",
      "Epoch 267/500\n",
      "1/1 [==============================] - 0s 5ms/step - loss: 25.9505 - mae: 25.9505\n",
      "Epoch 268/500\n",
      "1/1 [==============================] - 0s 6ms/step - loss: 94.9371 - mae: 94.9371\n",
      "Epoch 269/500\n",
      "1/1 [==============================] - 0s 4ms/step - loss: 73.0427 - mae: 73.0427\n",
      "Epoch 270/500\n",
      "1/1 [==============================] - 0s 6ms/step - loss: 55.9617 - mae: 55.9617\n",
      "Epoch 271/500\n",
      "1/1 [==============================] - 0s 5ms/step - loss: 1.2505 - mae: 1.2505\n",
      "Epoch 272/500\n",
      "1/1 [==============================] - 0s 5ms/step - loss: 174.0398 - mae: 174.0398\n",
      "Epoch 273/500\n",
      "1/1 [==============================] - 0s 4ms/step - loss: 69.5372 - mae: 69.5372\n",
      "Epoch 274/500\n",
      "1/1 [==============================] - 0s 5ms/step - loss: 44.7732 - mae: 44.7732\n",
      "Epoch 275/500\n",
      "1/1 [==============================] - 0s 9ms/step - loss: 34.5570 - mae: 34.5570\n",
      "Epoch 276/500\n",
      "1/1 [==============================] - 0s 5ms/step - loss: 75.6752 - mae: 75.6752\n",
      "Epoch 277/500\n",
      "1/1 [==============================] - 0s 4ms/step - loss: 64.4631 - mae: 64.4631\n",
      "Epoch 278/500\n",
      "1/1 [==============================] - 0s 6ms/step - loss: 28.5582 - mae: 28.5582\n",
      "Epoch 279/500\n",
      "1/1 [==============================] - 0s 5ms/step - loss: 86.4711 - mae: 86.4711\n",
      "Epoch 280/500\n",
      "1/1 [==============================] - 0s 6ms/step - loss: 73.3680 - mae: 73.3680\n",
      "Epoch 281/500\n",
      "1/1 [==============================] - 0s 4ms/step - loss: 57.1143 - mae: 57.1143\n",
      "Epoch 282/500\n",
      "1/1 [==============================] - 0s 4ms/step - loss: 5.0543 - mae: 5.0543\n",
      "Epoch 283/500\n",
      "1/1 [==============================] - 0s 5ms/step - loss: 161.7409 - mae: 161.7409\n",
      "Epoch 284/500\n",
      "1/1 [==============================] - 0s 4ms/step - loss: 70.0315 - mae: 70.0315\n",
      "Epoch 285/500\n",
      "1/1 [==============================] - 0s 4ms/step - loss: 46.4671 - mae: 46.4671\n",
      "Epoch 286/500\n",
      "1/1 [==============================] - 0s 4ms/step - loss: 29.0187 - mae: 29.0187\n",
      "Epoch 287/500\n",
      "1/1 [==============================] - 0s 4ms/step - loss: 75.8714 - mae: 75.8714\n",
      "Epoch 288/500\n",
      "1/1 [==============================] - 0s 4ms/step - loss: 65.2023 - mae: 65.2023\n",
      "Epoch 289/500\n",
      "1/1 [==============================] - 0s 5ms/step - loss: 31.0369 - mae: 31.0369\n",
      "Epoch 290/500\n",
      "1/1 [==============================] - 0s 4ms/step - loss: 78.4180 - mae: 78.4180\n",
      "Epoch 291/500\n",
      "1/1 [==============================] - 0s 5ms/step - loss: 73.6751 - mae: 73.6751\n",
      "Epoch 292/500\n",
      "1/1 [==============================] - 0s 4ms/step - loss: 58.2087 - mae: 58.2087\n",
      "Epoch 293/500\n",
      "1/1 [==============================] - 0s 13ms/step - loss: 8.6712 - mae: 8.6712\n",
      "Epoch 294/500\n",
      "1/1 [==============================] - 0s 5ms/step - loss: 150.0410 - mae: 150.0410\n",
      "Epoch 295/500\n",
      "1/1 [==============================] - 0s 5ms/step - loss: 70.4993 - mae: 70.4993\n",
      "Epoch 296/500\n",
      "1/1 [==============================] - 0s 6ms/step - loss: 48.0765 - mae: 48.0765\n",
      "Epoch 297/500\n",
      "1/1 [==============================] - 0s 6ms/step - loss: 23.7515 - mae: 23.7515\n",
      "Epoch 298/500\n",
      "1/1 [==============================] - 0s 5ms/step - loss: 76.0558 - mae: 76.0558\n",
      "Epoch 299/500\n",
      "1/1 [==============================] - 0s 4ms/step - loss: 65.9032 - mae: 65.9032\n",
      "Epoch 300/500\n",
      "1/1 [==============================] - 0s 4ms/step - loss: 33.3932 - mae: 33.3932\n",
      "Epoch 301/500\n",
      "1/1 [==============================] - 0s 5ms/step - loss: 70.7576 - mae: 70.7576\n",
      "Epoch 302/500\n",
      "1/1 [==============================] - 0s 4ms/step - loss: 73.9650 - mae: 73.9650\n",
      "Epoch 303/500\n",
      "1/1 [==============================] - 0s 4ms/step - loss: 59.2476 - mae: 59.2476\n",
      "Epoch 304/500\n",
      "1/1 [==============================] - 0s 4ms/step - loss: 12.1105 - mae: 12.1105\n",
      "Epoch 305/500\n",
      "1/1 [==============================] - 0s 5ms/step - loss: 138.9102 - mae: 138.9102\n",
      "Epoch 306/500\n",
      "1/1 [==============================] - 0s 6ms/step - loss: 70.9421 - mae: 70.9421\n",
      "Epoch 307/500\n",
      "1/1 [==============================] - 0s 3ms/step - loss: 49.6055 - mae: 49.6055\n",
      "Epoch 308/500\n",
      "1/1 [==============================] - 0s 5ms/step - loss: 18.7418 - mae: 18.7418\n",
      "Epoch 309/500\n",
      "1/1 [==============================] - 0s 4ms/step - loss: 76.2288 - mae: 76.2288\n",
      "Epoch 310/500\n",
      "1/1 [==============================] - 0s 7ms/step - loss: 66.5678 - mae: 66.5678\n",
      "Epoch 311/500\n",
      "1/1 [==============================] - 0s 4ms/step - loss: 35.6329 - mae: 35.6329\n",
      "Epoch 312/500\n",
      "1/1 [==============================] - 0s 6ms/step - loss: 63.4705 - mae: 63.4705\n",
      "Epoch 313/500\n",
      "1/1 [==============================] - 0s 5ms/step - loss: 74.2383 - mae: 74.2383\n",
      "Epoch 314/500\n",
      "1/1 [==============================] - 0s 5ms/step - loss: 60.2338 - mae: 60.2338\n",
      "Epoch 315/500\n",
      "1/1 [==============================] - 0s 5ms/step - loss: 15.3807 - mae: 15.3807\n",
      "Epoch 316/500\n",
      "1/1 [==============================] - 0s 5ms/step - loss: 128.3211 - mae: 128.3211\n",
      "Epoch 317/500\n",
      "1/1 [==============================] - 0s 5ms/step - loss: 71.3610 - mae: 71.3610\n",
      "Epoch 318/500\n",
      "1/1 [==============================] - 0s 3ms/step - loss: 51.0581 - mae: 51.0581\n",
      "Epoch 319/500\n",
      "1/1 [==============================] - 0s 5ms/step - loss: 13.9772 - mae: 13.9772\n",
      "Epoch 320/500\n",
      "1/1 [==============================] - 0s 5ms/step - loss: 76.3910 - mae: 76.3910\n",
      "Epoch 321/500\n",
      "1/1 [==============================] - 0s 4ms/step - loss: 67.1978 - mae: 67.1978\n",
      "Epoch 322/500\n",
      "1/1 [==============================] - 0s 13ms/step - loss: 37.7617 - mae: 37.7617\n",
      "Epoch 323/500\n",
      "1/1 [==============================] - 0s 9ms/step - loss: 56.5392 - mae: 56.5392\n",
      "Epoch 324/500\n",
      "1/1 [==============================] - 0s 4ms/step - loss: 74.4960 - mae: 74.4960\n",
      "Epoch 325/500\n",
      "1/1 [==============================] - 0s 10ms/step - loss: 61.1697 - mae: 61.1697\n",
      "Epoch 326/500\n",
      "1/1 [==============================] - 0s 5ms/step - loss: 18.4900 - mae: 18.4900\n",
      "Epoch 327/500\n",
      "1/1 [==============================] - 0s 4ms/step - loss: 118.2478 - mae: 118.2478\n",
      "Epoch 328/500\n",
      "1/1 [==============================] - 0s 5ms/step - loss: 71.7572 - mae: 71.7572\n",
      "Epoch 329/500\n",
      "1/1 [==============================] - 0s 4ms/step - loss: 52.4377 - mae: 52.4377\n",
      "Epoch 330/500\n",
      "1/1 [==============================] - 0s 5ms/step - loss: 9.4461 - mae: 9.4461\n",
      "Epoch 331/500\n",
      "1/1 [==============================] - 0s 10ms/step - loss: 76.5429 - mae: 76.5429\n",
      "Epoch 332/500\n",
      "1/1 [==============================] - 0s 5ms/step - loss: 67.7947 - mae: 67.7947\n",
      "Epoch 333/500\n",
      "1/1 [==============================] - 0s 8ms/step - loss: 39.7848 - mae: 39.7848\n",
      "Epoch 334/500\n",
      "1/1 [==============================] - 0s 5ms/step - loss: 49.9463 - mae: 49.9463\n",
      "Epoch 335/500\n",
      "1/1 [==============================] - 0s 4ms/step - loss: 74.7388 - mae: 74.7388\n",
      "Epoch 336/500\n",
      "1/1 [==============================] - 0s 5ms/step - loss: 62.0579 - mae: 62.0579\n",
      "Epoch 337/500\n",
      "1/1 [==============================] - 0s 4ms/step - loss: 21.4462 - mae: 21.4462\n",
      "Epoch 338/500\n",
      "1/1 [==============================] - 0s 4ms/step - loss: 108.6650 - mae: 108.6650\n",
      "Epoch 339/500\n",
      "1/1 [==============================] - 0s 4ms/step - loss: 72.1318 - mae: 72.1318\n",
      "Epoch 340/500\n",
      "1/1 [==============================] - 0s 4ms/step - loss: 53.7481 - mae: 53.7481\n",
      "Epoch 341/500\n",
      "1/1 [==============================] - 0s 5ms/step - loss: 5.1370 - mae: 5.1370\n",
      "Epoch 342/500\n",
      "1/1 [==============================] - 0s 5ms/step - loss: 76.6850 - mae: 76.6850\n",
      "Epoch 343/500\n",
      "1/1 [==============================] - 0s 5ms/step - loss: 68.3604 - mae: 68.3604\n",
      "Epoch 344/500\n",
      "1/1 [==============================] - 0s 5ms/step - loss: 41.7074 - mae: 41.7074\n",
      "Epoch 345/500\n",
      "1/1 [==============================] - 0s 6ms/step - loss: 43.6752 - mae: 43.6752\n",
      "Epoch 346/500\n",
      "1/1 [==============================] - 0s 4ms/step - loss: 74.9674 - mae: 74.9674\n",
      "Epoch 347/500\n",
      "1/1 [==============================] - 0s 5ms/step - loss: 62.9006 - mae: 62.9006\n",
      "Epoch 348/500\n",
      "1/1 [==============================] - 0s 4ms/step - loss: 24.2567 - mae: 24.2567\n",
      "Epoch 349/500\n",
      "1/1 [==============================] - 0s 13ms/step - loss: 99.5491 - mae: 99.5491\n",
      "Epoch 350/500\n",
      "1/1 [==============================] - 0s 13ms/step - loss: 72.4857 - mae: 72.4857\n",
      "Epoch 351/500\n",
      "1/1 [==============================] - 0s 9ms/step - loss: 54.9926 - mae: 54.9926\n",
      "Epoch 352/500\n",
      "1/1 [==============================] - 0s 4ms/step - loss: 1.0390 - mae: 1.0390\n",
      "Epoch 353/500\n",
      "1/1 [==============================] - 0s 7ms/step - loss: 76.8178 - mae: 76.8178\n",
      "Epoch 354/500\n",
      "1/1 [==============================] - 0s 8ms/step - loss: 68.8962 - mae: 68.8962\n",
      "Epoch 355/500\n",
      "1/1 [==============================] - 0s 5ms/step - loss: 43.5345 - mae: 43.5345\n",
      "Epoch 356/500\n",
      "1/1 [==============================] - 0s 6ms/step - loss: 37.7104 - mae: 37.7104\n",
      "Epoch 357/500\n",
      "1/1 [==============================] - 0s 4ms/step - loss: 75.1825 - mae: 75.1825\n",
      "Epoch 358/500\n",
      "1/1 [==============================] - 0s 6ms/step - loss: 63.7000 - mae: 63.7000\n",
      "Epoch 359/500\n",
      "1/1 [==============================] - 0s 4ms/step - loss: 26.9286 - mae: 26.9286\n",
      "Epoch 360/500\n",
      "1/1 [==============================] - 0s 6ms/step - loss: 90.8772 - mae: 90.8772\n",
      "Epoch 361/500\n",
      "1/1 [==============================] - 0s 4ms/step - loss: 72.8201 - mae: 72.8201\n",
      "Epoch 362/500\n",
      "1/1 [==============================] - 0s 5ms/step - loss: 56.1743 - mae: 56.1743\n",
      "Epoch 363/500\n",
      "1/1 [==============================] - 0s 5ms/step - loss: 2.8579 - mae: 2.8579\n",
      "Epoch 364/500\n",
      "1/1 [==============================] - 0s 4ms/step - loss: 167.9634 - mae: 167.9634\n",
      "Epoch 365/500\n",
      "1/1 [==============================] - 0s 6ms/step - loss: 69.4036 - mae: 69.4036\n",
      "Epoch 366/500\n",
      "1/1 [==============================] - 0s 4ms/step - loss: 45.2706 - mae: 45.2706\n",
      "Epoch 367/500\n",
      "1/1 [==============================] - 0s 5ms/step - loss: 32.0371 - mae: 32.0371\n",
      "Epoch 368/500\n",
      "1/1 [==============================] - 0s 4ms/step - loss: 75.3847 - mae: 75.3847\n",
      "Epoch 369/500\n",
      "1/1 [==============================] - 0s 6ms/step - loss: 64.4583 - mae: 64.4583\n",
      "Epoch 370/500\n",
      "1/1 [==============================] - 0s 4ms/step - loss: 29.4685 - mae: 29.4685\n",
      "Epoch 371/500\n",
      "1/1 [==============================] - 0s 34ms/step - loss: 82.6282 - mae: 82.6282\n",
      "Epoch 372/500\n",
      "1/1 [==============================] - 0s 5ms/step - loss: 73.1359 - mae: 73.1359\n",
      "Epoch 373/500\n",
      "1/1 [==============================] - 0s 7ms/step - loss: 57.2964 - mae: 57.2964\n",
      "Epoch 374/500\n",
      "1/1 [==============================] - 0s 9ms/step - loss: 6.5635 - mae: 6.5635\n",
      "Epoch 375/500\n",
      "1/1 [==============================] - 0s 5ms/step - loss: 155.9792 - mae: 155.9792\n",
      "Epoch 376/500\n",
      "1/1 [==============================] - 0s 5ms/step - loss: 69.8839 - mae: 69.8839\n",
      "Epoch 377/500\n",
      "1/1 [==============================] - 0s 5ms/step - loss: 46.9202 - mae: 46.9202\n",
      "Epoch 378/500\n",
      "1/1 [==============================] - 0s 4ms/step - loss: 26.6413 - mae: 26.6413\n",
      "Epoch 379/500\n",
      "1/1 [==============================] - 0s 4ms/step - loss: 75.5747 - mae: 75.5747\n",
      "Epoch 380/500\n",
      "1/1 [==============================] - 0s 5ms/step - loss: 65.1774 - mae: 65.1774\n",
      "Epoch 381/500\n",
      "1/1 [==============================] - 0s 5ms/step - loss: 31.8829 - mae: 31.8829\n",
      "Epoch 382/500\n",
      "1/1 [==============================] - 0s 4ms/step - loss: 74.7813 - mae: 74.7813\n",
      "Epoch 383/500\n",
      "1/1 [==============================] - 0s 4ms/step - loss: 73.4339 - mae: 73.4339\n",
      "Epoch 384/500\n",
      "1/1 [==============================] - 0s 5ms/step - loss: 58.3616 - mae: 58.3616\n",
      "Epoch 385/500\n",
      "1/1 [==============================] - 0s 5ms/step - loss: 10.0870 - mae: 10.0870\n",
      "Epoch 386/500\n",
      "1/1 [==============================] - 0s 5ms/step - loss: 144.5784 - mae: 144.5784\n",
      "Epoch 387/500\n",
      "1/1 [==============================] - 0s 4ms/step - loss: 70.3386 - mae: 70.3386\n",
      "Epoch 388/500\n",
      "1/1 [==============================] - 0s 5ms/step - loss: 48.4873 - mae: 48.4873\n",
      "Epoch 389/500\n",
      "1/1 [==============================] - 0s 5ms/step - loss: 21.5094 - mae: 21.5094\n",
      "Epoch 390/500\n",
      "1/1 [==============================] - 0s 5ms/step - loss: 75.7531 - mae: 75.7531\n",
      "Epoch 391/500\n",
      "1/1 [==============================] - 0s 5ms/step - loss: 65.8592 - mae: 65.8592\n",
      "Epoch 392/500\n",
      "1/1 [==============================] - 0s 5ms/step - loss: 34.1779 - mae: 34.1779\n",
      "Epoch 393/500\n",
      "1/1 [==============================] - 0s 16ms/step - loss: 67.3173 - mae: 67.3173\n",
      "Epoch 394/500\n",
      "1/1 [==============================] - 0s 5ms/step - loss: 73.7151 - mae: 73.7151\n",
      "Epoch 395/500\n",
      "1/1 [==============================] - 0s 5ms/step - loss: 59.3728 - mae: 59.3728\n",
      "Epoch 396/500\n",
      "1/1 [==============================] - 0s 8ms/step - loss: 13.4374 - mae: 13.4374\n",
      "Epoch 397/500\n",
      "1/1 [==============================] - 0s 5ms/step - loss: 133.7327 - mae: 133.7327\n",
      "Epoch 398/500\n",
      "1/1 [==============================] - 0s 5ms/step - loss: 70.7688 - mae: 70.7688\n",
      "Epoch 399/500\n",
      "1/1 [==============================] - 0s 5ms/step - loss: 49.9761 - mae: 49.9761\n",
      "Epoch 400/500\n",
      "1/1 [==============================] - 0s 7ms/step - loss: 16.6287 - mae: 16.6287\n",
      "Epoch 401/500\n",
      "1/1 [==============================] - 0s 4ms/step - loss: 75.9204 - mae: 75.9204\n",
      "Epoch 402/500\n",
      "1/1 [==============================] - 0s 5ms/step - loss: 66.5055 - mae: 66.5055\n",
      "Epoch 403/500\n",
      "1/1 [==============================] - 0s 4ms/step - loss: 36.3592 - mae: 36.3592\n",
      "Epoch 404/500\n",
      "1/1 [==============================] - 0s 4ms/step - loss: 60.2175 - mae: 60.2175\n",
      "Epoch 405/500\n",
      "1/1 [==============================] - 0s 5ms/step - loss: 73.9802 - mae: 73.9802\n",
      "Epoch 406/500\n",
      "1/1 [==============================] - 0s 4ms/step - loss: 60.3325 - mae: 60.3325\n",
      "Epoch 407/500\n",
      "1/1 [==============================] - 0s 4ms/step - loss: 16.6229 - mae: 16.6229\n",
      "Epoch 408/500\n",
      "1/1 [==============================] - 0s 4ms/step - loss: 123.4149 - mae: 123.4149\n",
      "Epoch 409/500\n",
      "1/1 [==============================] - 0s 6ms/step - loss: 71.1758 - mae: 71.1758\n",
      "Epoch 410/500\n",
      "1/1 [==============================] - 0s 4ms/step - loss: 51.3903 - mae: 51.3903\n",
      "Epoch 411/500\n",
      "1/1 [==============================] - 0s 6ms/step - loss: 11.9870 - mae: 11.9870\n",
      "Epoch 412/500\n",
      "1/1 [==============================] - 0s 4ms/step - loss: 76.0772 - mae: 76.0772\n",
      "Epoch 413/500\n",
      "1/1 [==============================] - 0s 5ms/step - loss: 67.1181 - mae: 67.1181\n",
      "Epoch 414/500\n",
      "1/1 [==============================] - 0s 12ms/step - loss: 38.4324 - mae: 38.4324\n",
      "Epoch 415/500\n",
      "1/1 [==============================] - 0s 19ms/step - loss: 53.4641 - mae: 53.4641\n",
      "Epoch 416/500\n",
      "1/1 [==============================] - 0s 6ms/step - loss: 74.2301 - mae: 74.2301\n",
      "Epoch 417/500\n",
      "1/1 [==============================] - 0s 5ms/step - loss: 61.2433 - mae: 61.2433\n",
      "Epoch 418/500\n",
      "1/1 [==============================] - 0s 8ms/step - loss: 19.6517 - mae: 19.6517\n",
      "Epoch 419/500\n",
      "1/1 [==============================] - 0s 5ms/step - loss: 113.5996 - mae: 113.5996\n",
      "Epoch 420/500\n",
      "1/1 [==============================] - 0s 4ms/step - loss: 71.5606 - mae: 71.5606\n",
      "Epoch 421/500\n",
      "1/1 [==============================] - 0s 4ms/step - loss: 52.7335 - mae: 52.7335\n",
      "Epoch 422/500\n",
      "1/1 [==============================] - 0s 4ms/step - loss: 7.5726 - mae: 7.5726\n",
      "Epoch 423/500\n",
      "1/1 [==============================] - 0s 4ms/step - loss: 76.2240 - mae: 76.2240\n",
      "Epoch 424/500\n",
      "1/1 [==============================] - 0s 4ms/step - loss: 67.6986 - mae: 67.6986\n",
      "Epoch 425/500\n",
      "1/1 [==============================] - 0s 4ms/step - loss: 40.4027 - mae: 40.4027\n",
      "Epoch 426/500\n",
      "1/1 [==============================] - 0s 4ms/step - loss: 47.0405 - mae: 47.0405\n",
      "Epoch 427/500\n",
      "1/1 [==============================] - 0s 4ms/step - loss: 74.4654 - mae: 74.4654\n",
      "Epoch 428/500\n",
      "1/1 [==============================] - 0s 4ms/step - loss: 62.1076 - mae: 62.1076\n",
      "Epoch 429/500\n",
      "1/1 [==============================] - 0s 5ms/step - loss: 22.5312 - mae: 22.5312\n",
      "Epoch 430/500\n",
      "1/1 [==============================] - 0s 12ms/step - loss: 104.2625 - mae: 104.2625\n",
      "Epoch 431/500\n",
      "1/1 [==============================] - 0s 4ms/step - loss: 71.9243 - mae: 71.9243\n",
      "Epoch 432/500\n",
      "1/1 [==============================] - 0s 7ms/step - loss: 54.0092 - mae: 54.0092\n",
      "Epoch 433/500\n",
      "1/1 [==============================] - 0s 4ms/step - loss: 3.3746 - mae: 3.3746\n",
      "Epoch 434/500\n",
      "1/1 [==============================] - 0s 5ms/step - loss: 76.3612 - mae: 76.3612\n",
      "Epoch 435/500\n",
      "1/1 [==============================] - 0s 4ms/step - loss: 68.2486 - mae: 68.2486\n",
      "Epoch 436/500\n",
      "1/1 [==============================] - 0s 4ms/step - loss: 42.2750 - mae: 42.2750\n",
      "Epoch 437/500\n",
      "1/1 [==============================] - 0s 4ms/step - loss: 40.9307 - mae: 40.9307\n",
      "Epoch 438/500\n",
      "1/1 [==============================] - 0s 4ms/step - loss: 74.6869 - mae: 74.6869\n",
      "Epoch 439/500\n",
      "1/1 [==============================] - 0s 24ms/step - loss: 62.9275 - mae: 62.9275\n",
      "Epoch 440/500\n",
      "1/1 [==============================] - 0s 12ms/step - loss: 25.2687 - mae: 25.2687\n",
      "Epoch 441/500\n",
      "1/1 [==============================] - 0s 4ms/step - loss: 95.3804 - mae: 95.3804\n",
      "Epoch 442/500\n",
      "1/1 [==============================] - 0s 5ms/step - loss: 72.2680 - mae: 72.2680\n",
      "Epoch 443/500\n",
      "1/1 [==============================] - 0s 7ms/step - loss: 55.2206 - mae: 55.2206\n",
      "Epoch 444/500\n",
      "1/1 [==============================] - 0s 4ms/step - loss: 0.6175 - mae: 0.6175\n",
      "Epoch 445/500\n",
      "1/1 [==============================] - 0s 5ms/step - loss: 174.3269 - mae: 174.3269\n",
      "Epoch 446/500\n",
      "1/1 [==============================] - 0s 5ms/step - loss: 68.7694 - mae: 68.7694\n",
      "Epoch 447/500\n",
      "1/1 [==============================] - 0s 5ms/step - loss: 44.0542 - mae: 44.0542\n",
      "Epoch 448/500\n",
      "1/1 [==============================] - 0s 5ms/step - loss: 35.1194 - mae: 35.1194\n",
      "Epoch 449/500\n",
      "1/1 [==============================] - 0s 5ms/step - loss: 74.8952 - mae: 74.8952\n",
      "Epoch 450/500\n",
      "1/1 [==============================] - 0s 4ms/step - loss: 63.7053 - mae: 63.7053\n",
      "Epoch 451/500\n",
      "1/1 [==============================] - 0s 5ms/step - loss: 27.8711 - mae: 27.8711\n",
      "Epoch 452/500\n",
      "1/1 [==============================] - 0s 5ms/step - loss: 86.9312 - mae: 86.9312\n",
      "Epoch 453/500\n",
      "1/1 [==============================] - 0s 4ms/step - loss: 72.5925 - mae: 72.5925\n",
      "Epoch 454/500\n",
      "1/1 [==============================] - 0s 7ms/step - loss: 56.3709 - mae: 56.3709\n",
      "Epoch 455/500\n",
      "1/1 [==============================] - 0s 4ms/step - loss: 4.4136 - mae: 4.4136\n",
      "Epoch 456/500\n",
      "1/1 [==============================] - 0s 5ms/step - loss: 162.0525 - mae: 162.0525\n",
      "Epoch 457/500\n",
      "1/1 [==============================] - 0s 4ms/step - loss: 69.2626 - mae: 69.2626\n",
      "Epoch 458/500\n",
      "1/1 [==============================] - 0s 5ms/step - loss: 45.7447 - mae: 45.7447\n",
      "Epoch 459/500\n",
      "1/1 [==============================] - 0s 4ms/step - loss: 29.5922 - mae: 29.5922\n",
      "Epoch 460/500\n",
      "1/1 [==============================] - 0s 5ms/step - loss: 75.0910 - mae: 75.0910\n",
      "Epoch 461/500\n",
      "1/1 [==============================] - 0s 29ms/step - loss: 64.4429 - mae: 64.4429\n",
      "Epoch 462/500\n",
      "1/1 [==============================] - 0s 5ms/step - loss: 30.3450 - mae: 30.3450\n",
      "Epoch 463/500\n",
      "1/1 [==============================] - 0s 5ms/step - loss: 78.8938 - mae: 78.8938\n",
      "Epoch 464/500\n",
      "1/1 [==============================] - 0s 7ms/step - loss: 72.8990 - mae: 72.8990\n",
      "Epoch 465/500\n",
      "1/1 [==============================] - 0s 5ms/step - loss: 57.4631 - mae: 57.4631\n",
      "Epoch 466/500\n",
      "1/1 [==============================] - 0s 5ms/step - loss: 8.0234 - mae: 8.0234\n",
      "Epoch 467/500\n",
      "1/1 [==============================] - 0s 5ms/step - loss: 150.3753 - mae: 150.3753\n",
      "Epoch 468/500\n",
      "1/1 [==============================] - 0s 5ms/step - loss: 69.7294 - mae: 69.7294\n",
      "Epoch 469/500\n",
      "1/1 [==============================] - 0s 4ms/step - loss: 47.3508 - mae: 47.3508\n",
      "Epoch 470/500\n",
      "1/1 [==============================] - 0s 5ms/step - loss: 24.3354 - mae: 24.3354\n",
      "Epoch 471/500\n",
      "1/1 [==============================] - 0s 4ms/step - loss: 75.2749 - mae: 75.2749\n",
      "Epoch 472/500\n",
      "1/1 [==============================] - 0s 5ms/step - loss: 65.1424 - mae: 65.1424\n",
      "Epoch 473/500\n",
      "1/1 [==============================] - 0s 5ms/step - loss: 32.6965 - mae: 32.6965\n",
      "Epoch 474/500\n",
      "1/1 [==============================] - 0s 5ms/step - loss: 71.2485 - mae: 71.2485\n",
      "Epoch 475/500\n",
      "1/1 [==============================] - 0s 5ms/step - loss: 73.1881 - mae: 73.1881\n",
      "Epoch 476/500\n",
      "1/1 [==============================] - 0s 10ms/step - loss: 58.4999 - mae: 58.4999\n",
      "Epoch 477/500\n",
      "1/1 [==============================] - 0s 5ms/step - loss: 11.4558 - mae: 11.4558\n",
      "Epoch 478/500\n",
      "1/1 [==============================] - 0s 27ms/step - loss: 139.2665 - mae: 139.2665\n",
      "Epoch 479/500\n",
      "1/1 [==============================] - 0s 6ms/step - loss: 70.1712 - mae: 70.1712\n",
      "Epoch 480/500\n",
      "1/1 [==============================] - 0s 7ms/step - loss: 48.8768 - mae: 48.8768\n",
      "Epoch 481/500\n",
      "1/1 [==============================] - 0s 8ms/step - loss: 19.3355 - mae: 19.3355\n",
      "Epoch 482/500\n",
      "1/1 [==============================] - 0s 6ms/step - loss: 75.4474 - mae: 75.4474\n",
      "Epoch 483/500\n",
      "1/1 [==============================] - 0s 5ms/step - loss: 65.8055 - mae: 65.8055\n",
      "Epoch 484/500\n",
      "1/1 [==============================] - 0s 4ms/step - loss: 34.9317 - mae: 34.9317\n",
      "Epoch 485/500\n",
      "1/1 [==============================] - 0s 5ms/step - loss: 63.9760 - mae: 63.9760\n",
      "Epoch 486/500\n",
      "1/1 [==============================] - 0s 4ms/step - loss: 73.4609 - mae: 73.4609\n",
      "Epoch 487/500\n",
      "1/1 [==============================] - 0s 4ms/step - loss: 59.4840 - mae: 59.4840\n",
      "Epoch 488/500\n",
      "1/1 [==============================] - 0s 5ms/step - loss: 14.7195 - mae: 14.7195\n",
      "Epoch 489/500\n",
      "1/1 [==============================] - 0s 4ms/step - loss: 128.6984 - mae: 128.6984\n",
      "Epoch 490/500\n",
      "1/1 [==============================] - 0s 5ms/step - loss: 70.5892 - mae: 70.5892\n",
      "Epoch 491/500\n",
      "1/1 [==============================] - 0s 4ms/step - loss: 50.3263 - mae: 50.3263\n",
      "Epoch 492/500\n",
      "1/1 [==============================] - 0s 4ms/step - loss: 14.5805 - mae: 14.5805\n",
      "Epoch 493/500\n",
      "1/1 [==============================] - 0s 4ms/step - loss: 75.6092 - mae: 75.6092\n",
      "Epoch 494/500\n",
      "1/1 [==============================] - 0s 4ms/step - loss: 66.4341 - mae: 66.4341\n",
      "Epoch 495/500\n",
      "1/1 [==============================] - 0s 5ms/step - loss: 37.0562 - mae: 37.0562\n",
      "Epoch 496/500\n",
      "1/1 [==============================] - 0s 5ms/step - loss: 57.0584 - mae: 57.0584\n",
      "Epoch 497/500\n",
      "1/1 [==============================] - 0s 5ms/step - loss: 73.7180 - mae: 73.7180\n",
      "Epoch 498/500\n",
      "1/1 [==============================] - 0s 4ms/step - loss: 60.4180 - mae: 60.4180\n",
      "Epoch 499/500\n",
      "1/1 [==============================] - 0s 4ms/step - loss: 17.8225 - mae: 17.8225\n",
      "Epoch 500/500\n",
      "1/1 [==============================] - 0s 22ms/step - loss: 118.6452 - mae: 118.6452\n"
     ]
    },
    {
     "data": {
      "text/plain": [
       "<keras.callbacks.History at 0x166d04a4220>"
      ]
     },
     "execution_count": 58,
     "metadata": {},
     "output_type": "execute_result"
    }
   ],
   "source": [
    "# Model_2\n",
    "\n",
    "#1. Create model\n",
    "model_2=tf.keras.Sequential([\n",
    "    tf.keras.layers.Dense(3,activation=\"relu\"),\n",
    "    tf.keras.layers.Dense(1)\n",
    "])\n",
    "\n",
    "#2. Compile the model\n",
    "model_2.compile(\n",
    "    loss=tf.keras.losses.mae,\n",
    "    optimizer=tf.keras.optimizers.SGD(),\n",
    "    metrics=[\"mae\"]\n",
    ")\n",
    "\n",
    "#3. Fitting the model\n",
    "model_2.fit(tf.expand_dims(X_test,axis=-1),y_test,epochs=500)"
   ]
  },
  {
   "cell_type": "code",
   "execution_count": 59,
   "metadata": {},
   "outputs": [
    {
     "name": "stdout",
     "output_type": "stream",
     "text": [
      "1/1 [==============================] - 0s 61ms/step\n"
     ]
    }
   ],
   "source": [
    "y_pred_2=model_2.predict(X_test)"
   ]
  },
  {
   "cell_type": "code",
   "execution_count": 60,
   "metadata": {},
   "outputs": [
    {
     "data": {
      "image/png": "[encoded data removed]",
      "text/plain": [
       "<Figure size 1000x700 with 1 Axes>"
      ]
     },
     "metadata": {},
     "output_type": "display_data"
    }
   ],
   "source": [
    "plot_predictions(X_train,y_train,X_test,y_test,y_pred_2)"
   ]
  },
  {
   "cell_type": "code",
   "execution_count": 61,
   "metadata": {},
   "outputs": [
    {
     "data": {
      "text/plain": [
       "<tf.Tensor: shape=(), dtype=float32, numpy=70.9845>"
      ]
     },
     "execution_count": 61,
     "metadata": {},
     "output_type": "execute_result"
    }
   ],
   "source": [
    "#Mean absolute error\n",
    "tf.metrics.mean_absolute_error(y_test,tf.squeeze(y_pred_2))"
   ]
  },
  {
   "cell_type": "code",
   "execution_count": 62,
   "metadata": {},
   "outputs": [
    {
     "data": {
      "text/plain": [
       "<tf.Tensor: shape=(), dtype=float32, numpy=5143.9873>"
      ]
     },
     "execution_count": 62,
     "metadata": {},
     "output_type": "execute_result"
    }
   ],
   "source": [
    "#Mean squared error\n",
    "tf.metrics.mean_squared_error(y_test,tf.squeeze(y_pred_2))"
   ]
  },
  {
   "cell_type": "code",
   "execution_count": 63,
   "metadata": {},
   "outputs": [
    {
     "name": "stdout",
     "output_type": "stream",
     "text": [
      "Epoch 1/100\n",
      "3/3 [==============================] - 1s 3ms/step - loss: 42.4034 - mae: 42.4034\n",
      "Epoch 2/100\n",
      "3/3 [==============================] - 0s 3ms/step - loss: 38.7495 - mae: 38.7495\n",
      "Epoch 3/100\n",
      "3/3 [==============================] - 0s 2ms/step - loss: 35.5605 - mae: 35.5605\n",
      "Epoch 4/100\n",
      "3/3 [==============================] - 0s 3ms/step - loss: 31.7980 - mae: 31.7980\n",
      "Epoch 5/100\n",
      "3/3 [==============================] - 0s 2ms/step - loss: 27.7454 - mae: 27.7454\n",
      "Epoch 6/100\n",
      "3/3 [==============================] - 0s 3ms/step - loss: 22.7406 - mae: 22.7406\n",
      "Epoch 7/100\n",
      "3/3 [==============================] - 0s 3ms/step - loss: 16.6960 - mae: 16.6960\n",
      "Epoch 8/100\n",
      "3/3 [==============================] - 0s 4ms/step - loss: 9.5483 - mae: 9.5483\n",
      "Epoch 9/100\n",
      "3/3 [==============================] - 0s 4ms/step - loss: 7.7363 - mae: 7.7363\n",
      "Epoch 10/100\n",
      "3/3 [==============================] - 0s 4ms/step - loss: 3.3666 - mae: 3.3666\n",
      "Epoch 11/100\n",
      "3/3 [==============================] - 0s 3ms/step - loss: 5.4976 - mae: 5.4976\n",
      "Epoch 12/100\n",
      "3/3 [==============================] - 0s 3ms/step - loss: 3.2000 - mae: 3.2000\n",
      "Epoch 13/100\n",
      "3/3 [==============================] - 0s 4ms/step - loss: 2.2803 - mae: 2.2803\n",
      "Epoch 14/100\n",
      "3/3 [==============================] - 0s 3ms/step - loss: 2.1746 - mae: 2.1746\n",
      "Epoch 15/100\n",
      "3/3 [==============================] - 0s 2ms/step - loss: 2.1562 - mae: 2.1562\n",
      "Epoch 16/100\n",
      "3/3 [==============================] - 0s 3ms/step - loss: 1.4801 - mae: 1.4801\n",
      "Epoch 17/100\n",
      "3/3 [==============================] - 0s 3ms/step - loss: 1.6369 - mae: 1.6369\n",
      "Epoch 18/100\n",
      "3/3 [==============================] - 0s 2ms/step - loss: 1.1182 - mae: 1.1182\n",
      "Epoch 19/100\n",
      "3/3 [==============================] - 0s 3ms/step - loss: 1.3096 - mae: 1.3096\n",
      "Epoch 20/100\n",
      "3/3 [==============================] - 0s 3ms/step - loss: 1.0358 - mae: 1.0358\n",
      "Epoch 21/100\n",
      "3/3 [==============================] - 0s 3ms/step - loss: 1.0725 - mae: 1.0725\n",
      "Epoch 22/100\n",
      "3/3 [==============================] - 0s 3ms/step - loss: 0.8254 - mae: 0.8254\n",
      "Epoch 23/100\n",
      "3/3 [==============================] - 0s 2ms/step - loss: 0.7377 - mae: 0.7377\n",
      "Epoch 24/100\n",
      "3/3 [==============================] - 0s 3ms/step - loss: 0.6606 - mae: 0.6606\n",
      "Epoch 25/100\n",
      "3/3 [==============================] - 0s 3ms/step - loss: 0.7606 - mae: 0.7606\n",
      "Epoch 26/100\n",
      "3/3 [==============================] - 0s 3ms/step - loss: 0.5530 - mae: 0.5530\n",
      "Epoch 27/100\n",
      "3/3 [==============================] - 0s 4ms/step - loss: 0.4920 - mae: 0.4920\n",
      "Epoch 28/100\n",
      "3/3 [==============================] - 0s 3ms/step - loss: 0.5488 - mae: 0.5488\n",
      "Epoch 29/100\n",
      "3/3 [==============================] - 0s 3ms/step - loss: 0.7458 - mae: 0.7458\n",
      "Epoch 30/100\n",
      "3/3 [==============================] - 0s 3ms/step - loss: 0.5633 - mae: 0.5633\n",
      "Epoch 31/100\n",
      "3/3 [==============================] - 0s 5ms/step - loss: 0.6677 - mae: 0.6677\n",
      "Epoch 32/100\n",
      "3/3 [==============================] - 0s 2ms/step - loss: 0.6533 - mae: 0.6533\n",
      "Epoch 33/100\n",
      "3/3 [==============================] - 0s 3ms/step - loss: 0.6272 - mae: 0.6272\n",
      "Epoch 34/100\n",
      "3/3 [==============================] - 0s 2ms/step - loss: 0.8140 - mae: 0.8140\n",
      "Epoch 35/100\n",
      "3/3 [==============================] - 0s 4ms/step - loss: 1.3174 - mae: 1.3174\n",
      "Epoch 36/100\n",
      "3/3 [==============================] - 0s 2ms/step - loss: 0.7516 - mae: 0.7516\n",
      "Epoch 37/100\n",
      "3/3 [==============================] - 0s 3ms/step - loss: 0.6403 - mae: 0.6403\n",
      "Epoch 38/100\n",
      "3/3 [==============================] - 0s 2ms/step - loss: 0.6025 - mae: 0.6025\n",
      "Epoch 39/100\n",
      "3/3 [==============================] - 0s 2ms/step - loss: 0.5774 - mae: 0.5774\n",
      "Epoch 40/100\n",
      "3/3 [==============================] - 0s 2ms/step - loss: 0.4615 - mae: 0.4615\n",
      "Epoch 41/100\n",
      "3/3 [==============================] - 0s 2ms/step - loss: 0.5332 - mae: 0.5332\n",
      "Epoch 42/100\n",
      "3/3 [==============================] - 0s 3ms/step - loss: 0.6682 - mae: 0.6682\n",
      "Epoch 43/100\n",
      "3/3 [==============================] - 0s 3ms/step - loss: 0.8524 - mae: 0.8524\n",
      "Epoch 44/100\n",
      "3/3 [==============================] - 0s 2ms/step - loss: 1.2128 - mae: 1.2128\n",
      "Epoch 45/100\n",
      "3/3 [==============================] - 0s 3ms/step - loss: 1.6734 - mae: 1.6734\n",
      "Epoch 46/100\n",
      "3/3 [==============================] - 0s 2ms/step - loss: 0.8989 - mae: 0.8989\n",
      "Epoch 47/100\n",
      "3/3 [==============================] - 0s 3ms/step - loss: 0.9068 - mae: 0.9068\n",
      "Epoch 48/100\n",
      "3/3 [==============================] - 0s 2ms/step - loss: 1.9236 - mae: 1.9236\n",
      "Epoch 49/100\n",
      "3/3 [==============================] - 0s 3ms/step - loss: 0.8192 - mae: 0.8192\n",
      "Epoch 50/100\n",
      "3/3 [==============================] - 0s 2ms/step - loss: 0.7748 - mae: 0.7748\n",
      "Epoch 51/100\n",
      "3/3 [==============================] - 0s 2ms/step - loss: 1.7758 - mae: 1.7758\n",
      "Epoch 52/100\n",
      "3/3 [==============================] - 0s 3ms/step - loss: 0.8986 - mae: 0.8986\n",
      "Epoch 53/100\n",
      "3/3 [==============================] - 0s 3ms/step - loss: 1.0770 - mae: 1.0770\n",
      "Epoch 54/100\n",
      "3/3 [==============================] - 0s 3ms/step - loss: 0.8762 - mae: 0.8762\n",
      "Epoch 55/100\n",
      "3/3 [==============================] - 0s 3ms/step - loss: 0.8827 - mae: 0.8827\n",
      "Epoch 56/100\n",
      "3/3 [==============================] - 0s 3ms/step - loss: 1.0002 - mae: 1.0002\n",
      "Epoch 57/100\n",
      "3/3 [==============================] - 0s 3ms/step - loss: 0.6859 - mae: 0.6859\n",
      "Epoch 58/100\n",
      "3/3 [==============================] - 0s 3ms/step - loss: 1.3523 - mae: 1.3523\n",
      "Epoch 59/100\n",
      "3/3 [==============================] - 0s 2ms/step - loss: 1.0922 - mae: 1.0922\n",
      "Epoch 60/100\n",
      "3/3 [==============================] - 0s 2ms/step - loss: 1.5285 - mae: 1.5285\n",
      "Epoch 61/100\n",
      "3/3 [==============================] - 0s 3ms/step - loss: 1.0857 - mae: 1.0857\n",
      "Epoch 62/100\n",
      "3/3 [==============================] - 0s 2ms/step - loss: 1.4152 - mae: 1.4152\n",
      "Epoch 63/100\n",
      "3/3 [==============================] - 0s 3ms/step - loss: 1.0084 - mae: 1.0084\n",
      "Epoch 64/100\n",
      "3/3 [==============================] - 0s 2ms/step - loss: 0.7334 - mae: 0.7334\n",
      "Epoch 65/100\n",
      "3/3 [==============================] - 0s 3ms/step - loss: 0.6972 - mae: 0.6972\n",
      "Epoch 66/100\n",
      "3/3 [==============================] - 0s 3ms/step - loss: 0.6713 - mae: 0.6713\n",
      "Epoch 67/100\n",
      "3/3 [==============================] - 0s 4ms/step - loss: 0.9058 - mae: 0.9058\n",
      "Epoch 68/100\n",
      "3/3 [==============================] - 0s 2ms/step - loss: 0.8859 - mae: 0.8859\n",
      "Epoch 69/100\n",
      "3/3 [==============================] - 0s 3ms/step - loss: 1.0246 - mae: 1.0246\n",
      "Epoch 70/100\n",
      "3/3 [==============================] - 0s 3ms/step - loss: 0.7531 - mae: 0.7531\n",
      "Epoch 71/100\n",
      "3/3 [==============================] - 0s 4ms/step - loss: 0.6410 - mae: 0.6410\n",
      "Epoch 72/100\n",
      "3/3 [==============================] - 0s 2ms/step - loss: 0.4874 - mae: 0.4874\n",
      "Epoch 73/100\n",
      "3/3 [==============================] - 0s 3ms/step - loss: 0.3986 - mae: 0.3986\n",
      "Epoch 74/100\n",
      "3/3 [==============================] - 0s 3ms/step - loss: 0.3948 - mae: 0.3948\n",
      "Epoch 75/100\n",
      "3/3 [==============================] - 0s 3ms/step - loss: 0.4383 - mae: 0.4383\n",
      "Epoch 76/100\n",
      "3/3 [==============================] - 0s 2ms/step - loss: 0.5355 - mae: 0.5355\n",
      "Epoch 77/100\n",
      "3/3 [==============================] - 0s 2ms/step - loss: 0.7103 - mae: 0.7103\n",
      "Epoch 78/100\n",
      "3/3 [==============================] - 0s 2ms/step - loss: 1.0740 - mae: 1.0740\n",
      "Epoch 79/100\n",
      "3/3 [==============================] - 0s 3ms/step - loss: 1.2705 - mae: 1.2705\n",
      "Epoch 80/100\n",
      "3/3 [==============================] - 0s 3ms/step - loss: 0.5560 - mae: 0.5560\n",
      "Epoch 81/100\n",
      "3/3 [==============================] - 0s 3ms/step - loss: 0.4523 - mae: 0.4523\n",
      "Epoch 82/100\n",
      "3/3 [==============================] - 0s 3ms/step - loss: 0.4288 - mae: 0.4288\n",
      "Epoch 83/100\n",
      "3/3 [==============================] - 0s 3ms/step - loss: 0.3989 - mae: 0.3989\n",
      "Epoch 84/100\n",
      "3/3 [==============================] - 0s 2ms/step - loss: 0.4107 - mae: 0.4107\n",
      "Epoch 85/100\n",
      "3/3 [==============================] - 0s 2ms/step - loss: 0.2782 - mae: 0.2782\n",
      "Epoch 86/100\n",
      "3/3 [==============================] - 0s 3ms/step - loss: 0.1379 - mae: 0.1379\n",
      "Epoch 87/100\n",
      "3/3 [==============================] - 0s 2ms/step - loss: 0.4724 - mae: 0.4724\n",
      "Epoch 88/100\n",
      "3/3 [==============================] - 0s 2ms/step - loss: 0.2860 - mae: 0.2860\n",
      "Epoch 89/100\n",
      "3/3 [==============================] - 0s 3ms/step - loss: 0.3539 - mae: 0.3539\n",
      "Epoch 90/100\n",
      "3/3 [==============================] - 0s 3ms/step - loss: 0.4901 - mae: 0.4901\n",
      "Epoch 91/100\n",
      "3/3 [==============================] - 0s 3ms/step - loss: 1.2317 - mae: 1.2317\n",
      "Epoch 92/100\n",
      "3/3 [==============================] - 0s 4ms/step - loss: 0.5084 - mae: 0.5084\n",
      "Epoch 93/100\n",
      "3/3 [==============================] - 0s 2ms/step - loss: 0.9369 - mae: 0.9369\n",
      "Epoch 94/100\n",
      "3/3 [==============================] - 0s 3ms/step - loss: 0.3732 - mae: 0.3732\n",
      "Epoch 95/100\n",
      "3/3 [==============================] - 0s 3ms/step - loss: 0.9933 - mae: 0.9933\n",
      "Epoch 96/100\n",
      "3/3 [==============================] - 0s 3ms/step - loss: 0.4660 - mae: 0.4660\n",
      "Epoch 97/100\n",
      "3/3 [==============================] - 0s 3ms/step - loss: 0.6774 - mae: 0.6774\n",
      "Epoch 98/100\n",
      "3/3 [==============================] - 0s 4ms/step - loss: 0.8480 - mae: 0.8480\n",
      "Epoch 99/100\n",
      "3/3 [==============================] - 0s 3ms/step - loss: 1.3722 - mae: 1.3722\n",
      "Epoch 100/100\n",
      "3/3 [==============================] - 0s 3ms/step - loss: 0.8911 - mae: 0.8911\n"
     ]
    },
    {
     "data": {
      "text/plain": [
       "<keras.callbacks.History at 0x166d05ddff0>"
      ]
     },
     "execution_count": 63,
     "metadata": {},
     "output_type": "execute_result"
    }
   ],
   "source": [
    "#Model 3\n",
    "\n",
    "#1. Create model\n",
    "model_3=tf.keras.Sequential([\n",
    "    tf.keras.layers.Dense(5,activation=\"relu\"),\n",
    "    tf.keras.layers.Dense(10,activation=\"relu\"),\n",
    "    tf.keras.layers.Dense(5,activation=\"relu\"),\n",
    "    tf.keras.layers.Dense(1)\n",
    "])\n",
    "\n",
    "#2. Compile model\n",
    "model_3.compile(\n",
    "    loss=tf.keras.losses.mae,\n",
    "    optimizer=tf.keras.optimizers.Adam(learning_rate=0.01),\n",
    "    metrics=[\"mae\"]\n",
    ")\n",
    "\n",
    "#3. Fitting the model\n",
    "model_3.fit(tf.expand_dims(X_train,axis=-1),y_train,epochs=100)"
   ]
  },
  {
   "cell_type": "code",
   "execution_count": 64,
   "metadata": {},
   "outputs": [
    {
     "name": "stdout",
     "output_type": "stream",
     "text": [
      "WARNING:tensorflow:5 out of the last 5 calls to <function Model.make_predict_function.<locals>.predict_function at 0x00000166D3AADBD0> triggered tf.function retracing. Tracing is expensive and the excessive number of tracings could be due to (1) creating @tf.function repeatedly in a loop, (2) passing tensors with different shapes, (3) passing Python objects instead of tensors. For (1), please define your @tf.function outside of the loop. For (2), @tf.function has reduce_retracing=True option that can avoid unnecessary retracing. For (3), please refer to https://www.tensorflow.org/guide/function#controlling_retracing and https://www.tensorflow.org/api_docs/python/tf/function for  more details.\n",
      "1/1 [==============================] - 0s 78ms/step\n"
     ]
    }
   ],
   "source": [
    "y_pred_3=model_3.predict(X_test)"
   ]
  },
  {
   "cell_type": "code",
   "execution_count": 65,
   "metadata": {},
   "outputs": [
    {
     "data": {
      "image/png": "[encoded data removed]",
      "text/plain": [
       "<Figure size 1000x700 with 1 Axes>"
      ]
     },
     "metadata": {},
     "output_type": "display_data"
    }
   ],
   "source": [
    "plot_predictions(X_train,y_train,X_test,y_test,y_pred_3)"
   ]
  },
  {
   "cell_type": "code",
   "execution_count": 66,
   "metadata": {},
   "outputs": [
    {
     "data": {
      "text/plain": [
       "<tf.Tensor: shape=(), dtype=float32, numpy=0.4045391>"
      ]
     },
     "execution_count": 66,
     "metadata": {},
     "output_type": "execute_result"
    }
   ],
   "source": [
    "#Mean absolute error\n",
    "tf.metrics.mean_absolute_error(y_test,tf.squeeze(y_pred_3))"
   ]
  },
  {
   "cell_type": "code",
   "execution_count": 67,
   "metadata": {},
   "outputs": [
    {
     "data": {
      "text/plain": [
       "<tf.Tensor: shape=(), dtype=float32, numpy=0.16807282>"
      ]
     },
     "execution_count": 67,
     "metadata": {},
     "output_type": "execute_result"
    }
   ],
   "source": [
    "#Mean squared error\n",
    "tf.metrics.mean_squared_error(y_test,tf.squeeze(y_pred_3))"
   ]
  },
  {
   "cell_type": "markdown",
   "metadata": {},
   "source": [
    "#Tracking your experiments\n",
    "* One really good habit in machine learning modelling is to track the results of your experiments \n",
    "* And when doing so , it can be tedious if you are running lots of experiments\n",
    "* Luckily , there are tools to help us!\n"
   ]
  },
  {
   "cell_type": "markdown",
   "metadata": {},
   "source": [
    "* TensorBoard->a component of the tensorflow libraby to help track modelling experiments \n",
    "* Weights & Biases->a tool for tracking all of kinds of machine learning experiments (Plugs straight into TensorBoard)"
   ]
  },
  {
   "cell_type": "markdown",
   "metadata": {},
   "source": [
    "# Saving the Model"
   ]
  },
  {
   "cell_type": "markdown",
   "metadata": {},
   "source": [
    "* Saving a model allow us to use the model outside the jupyter Notebook"
   ]
  },
  {
   "cell_type": "code",
   "execution_count": 68,
   "metadata": {},
   "outputs": [
    {
     "name": "stdout",
     "output_type": "stream",
     "text": [
      "INFO:tensorflow:Assets written to: best_model_SavedModel_format\\assets\n"
     ]
    }
   ],
   "source": [
    "# Save the mdoel using SaveModel formate\n",
    "model_3.save(\"best_model_SavedModel_format\")"
   ]
  },
  {
   "cell_type": "code",
   "execution_count": 69,
   "metadata": {},
   "outputs": [],
   "source": [
    "# Save the model HDF5 format\n",
    "model_3.save(\"best_model_HDF5_format.h5\")"
   ]
  },
  {
   "cell_type": "code",
   "execution_count": 70,
   "metadata": {},
   "outputs": [
    {
     "name": "stdout",
     "output_type": "stream",
     "text": [
      "Model: \"sequential_7\"\n",
      "_________________________________________________________________\n",
      " Layer (type)                Output Shape              Param #   \n",
      "=================================================================\n",
      " dense_12 (Dense)            (None, 5)                 10        \n",
      "                                                                 \n",
      " dense_13 (Dense)            (None, 10)                60        \n",
      "                                                                 \n",
      " dense_14 (Dense)            (None, 5)                 55        \n",
      "                                                                 \n",
      " dense_15 (Dense)            (None, 1)                 6         \n",
      "                                                                 \n",
      "=================================================================\n",
      "Total params: 131\n",
      "Trainable params: 131\n",
      "Non-trainable params: 0\n",
      "_________________________________________________________________\n"
     ]
    }
   ],
   "source": [
    "# Loading in a saved model\n",
    "loaded_savedmodel_format=tf.keras.models.load_model(\"best_model_SavedModel_format\")\n",
    "loaded_savedmodel_format.summary()"
   ]
  },
  {
   "cell_type": "code",
   "execution_count": 71,
   "metadata": {},
   "outputs": [
    {
     "name": "stdout",
     "output_type": "stream",
     "text": [
      "Model: \"sequential_7\"\n",
      "_________________________________________________________________\n",
      " Layer (type)                Output Shape              Param #   \n",
      "=================================================================\n",
      " dense_12 (Dense)            (None, 5)                 10        \n",
      "                                                                 \n",
      " dense_13 (Dense)            (None, 10)                60        \n",
      "                                                                 \n",
      " dense_14 (Dense)            (None, 5)                 55        \n",
      "                                                                 \n",
      " dense_15 (Dense)            (None, 1)                 6         \n",
      "                                                                 \n",
      "=================================================================\n",
      "Total params: 131\n",
      "Trainable params: 131\n",
      "Non-trainable params: 0\n",
      "_________________________________________________________________\n"
     ]
    }
   ],
   "source": [
    "model_3.summary()"
   ]
  },
  {
   "cell_type": "code",
   "execution_count": null,
   "metadata": {},
   "outputs": [],
   "source": []
  }
 ],
 "metadata": {
  "kernelspec": {
   "display_name": "Python 3 (ipykernel)",
   "language": "python",
   "name": "python3"
  },
  "language_info": {
   "codemirror_mode": {
    "name": "ipython",
    "version": 3
   },
   "file_extension": ".py",
   "mimetype": "text/x-python",
   "name": "python",
   "nbconvert_exporter": "python",
   "pygments_lexer": "ipython3",
   "version": "3.10.7 (tags/v3.10.7:6cc6b13, Sep  5 2022, 14:08:36) [MSC v.1933 64 bit (AMD64)]"
  },
  "vscode": {
   "interpreter": {
    "hash": "d9301f351715a867d1bc8fb08501c60e58ca81704bf7ff03478c999d7c5e9338"
   }
  }
 },
 "nbformat": 4,
 "nbformat_minor": 2
}
