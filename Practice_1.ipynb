{
 "cells": [
  {
   "cell_type": "code",
   "execution_count": 1,
   "metadata": {},
   "outputs": [],
   "source": [
    "import pandas as pd\n",
    "import numpy as np\n",
    "import matplotlib.pyplot as plt\n",
    "import seaborn as sns\n",
    "%matplotlib inline"
   ]
  },
  {
   "cell_type": "code",
   "execution_count": 2,
   "metadata": {},
   "outputs": [],
   "source": [
    "# Let's install tensorflow\n",
    "import tensorflow as tf"
   ]
  },
  {
   "cell_type": "code",
   "execution_count": 4,
   "metadata": {},
   "outputs": [
    {
     "name": "stdout",
     "output_type": "stream",
     "text": [
      "tf.Tensor(0.9933072, shape=(), dtype=float32)\n"
     ]
    }
   ],
   "source": [
    "print(tf.math.sigmoid(5.0))"
   ]
  },
  {
   "cell_type": "code",
   "execution_count": 5,
   "metadata": {},
   "outputs": [
    {
     "name": "stdout",
     "output_type": "stream",
     "text": [
      "Downloading data from https://storage.googleapis.com/tensorflow/tf-keras-datasets/train-labels-idx1-ubyte.gz\n",
      "29515/29515 [==============================] - 0s 9us/step\n",
      "Downloading data from https://storage.googleapis.com/tensorflow/tf-keras-datasets/train-images-idx3-ubyte.gz\n",
      "26421880/26421880 [==============================] - 259s 10us/step\n",
      "Downloading data from https://storage.googleapis.com/tensorflow/tf-keras-datasets/t10k-labels-idx1-ubyte.gz\n",
      "5148/5148 [==============================] - 0s 0s/step\n",
      "Downloading data from https://storage.googleapis.com/tensorflow/tf-keras-datasets/t10k-images-idx3-ubyte.gz\n",
      "4422102/4422102 [==============================] - 40s 9us/step\n"
     ]
    }
   ],
   "source": [
    "from tensorflow import keras\n",
    "\n",
    "(x_train, y_train), (x_val, y_val) = keras.datasets.fashion_mnist.load_data()"
   ]
  },
  {
   "cell_type": "code",
   "execution_count": 6,
   "metadata": {},
   "outputs": [],
   "source": [
    "def preprocess(x, y):\n",
    "  x = tf.cast(x, tf.float32) / 255.0\n",
    "  y = tf.cast(y, tf.int64)\n",
    "\n",
    "  return x, y\n",
    "\n",
    "def create_dataset(xs, ys, n_classes=10):\n",
    "  ys = tf.one_hot(ys, depth=n_classes)\n",
    "  return tf.data.Dataset.from_tensor_slices((xs, ys)) \\\n",
    "    .map(preprocess) \\\n",
    "    .shuffle(len(ys)) \\\n",
    "    .batch(128)"
   ]
  },
  {
   "cell_type": "code",
   "execution_count": 7,
   "metadata": {},
   "outputs": [],
   "source": [
    "# Let's Create the first NN model\n",
    "train_dataset = create_dataset(x_train, y_train)\n",
    "val_dataset = create_dataset(x_val, y_val)"
   ]
  },
  {
   "cell_type": "code",
   "execution_count": 8,
   "metadata": {},
   "outputs": [],
   "source": [
    "#Creating Layers and setting neurons in each layer\n",
    "model = keras.Sequential([\n",
    "    keras.layers.Reshape(target_shape=(28 * 28,), input_shape=(28, 28)),\n",
    "    keras.layers.Dense(units=256, activation='relu'),\n",
    "    keras.layers.Dense(units=192, activation='relu'),\n",
    "    keras.layers.Dense(units=128, activation='relu'),\n",
    "    keras.layers.Dense(units=10, activation='softmax')\n",
    "])"
   ]
  },
  {
   "cell_type": "code",
   "execution_count": 9,
   "metadata": {},
   "outputs": [
    {
     "name": "stdout",
     "output_type": "stream",
     "text": [
      "Epoch 1/10\n"
     ]
    },
    {
     "name": "stderr",
     "output_type": "stream",
     "text": [
      "c:\\Users\\Chetan\\AppData\\Local\\Programs\\Python\\Python310\\lib\\site-packages\\keras\\backend.py:5531: UserWarning: \"`categorical_crossentropy` received `from_logits=True`, but the `output` argument was produced by a Softmax activation and thus does not represent logits. Was this intended?\n",
      "  output, from_logits = _get_logits(\n"
     ]
    },
    {
     "name": "stdout",
     "output_type": "stream",
     "text": [
      "500/500 [==============================] - 5s 7ms/step - loss: 0.4910 - accuracy: 0.8253 - val_loss: 0.4970 - val_accuracy: 0.8164\n",
      "Epoch 2/10\n",
      "500/500 [==============================] - 3s 6ms/step - loss: 0.3506 - accuracy: 0.8708 - val_loss: 0.3730 - val_accuracy: 0.8594\n",
      "Epoch 3/10\n",
      "500/500 [==============================] - 3s 6ms/step - loss: 0.3171 - accuracy: 0.8838 - val_loss: 0.3984 - val_accuracy: 0.8750\n",
      "Epoch 4/10\n",
      "500/500 [==============================] - 3s 6ms/step - loss: 0.2970 - accuracy: 0.8906 - val_loss: 0.3063 - val_accuracy: 0.8789\n",
      "Epoch 5/10\n",
      "500/500 [==============================] - 3s 6ms/step - loss: 0.2728 - accuracy: 0.8977 - val_loss: 0.3606 - val_accuracy: 0.8477\n",
      "Epoch 6/10\n",
      "500/500 [==============================] - 3s 6ms/step - loss: 0.2621 - accuracy: 0.9006 - val_loss: 0.3361 - val_accuracy: 0.8750\n",
      "Epoch 7/10\n",
      "500/500 [==============================] - 3s 6ms/step - loss: 0.2482 - accuracy: 0.9069 - val_loss: 0.3168 - val_accuracy: 0.8945\n",
      "Epoch 8/10\n",
      "500/500 [==============================] - 3s 6ms/step - loss: 0.2380 - accuracy: 0.9104 - val_loss: 0.3244 - val_accuracy: 0.8906\n",
      "Epoch 9/10\n",
      "500/500 [==============================] - 3s 6ms/step - loss: 0.2297 - accuracy: 0.9130 - val_loss: 0.3935 - val_accuracy: 0.8867\n",
      "Epoch 10/10\n",
      "500/500 [==============================] - 3s 6ms/step - loss: 0.2207 - accuracy: 0.9156 - val_loss: 0.2542 - val_accuracy: 0.9062\n"
     ]
    }
   ],
   "source": [
    "model.compile(optimizer='adam', \n",
    "              loss=tf.losses.CategoricalCrossentropy(from_logits=True),\n",
    "              metrics=['accuracy'])\n",
    "\n",
    "history = model.fit(\n",
    "    train_dataset.repeat(), \n",
    "    epochs=10, \n",
    "    steps_per_epoch=500,\n",
    "    validation_data=val_dataset.repeat(), \n",
    "    validation_steps=2\n",
    ")"
   ]
  },
  {
   "cell_type": "code",
   "execution_count": null,
   "metadata": {},
   "outputs": [],
   "source": []
  }
 ],
 "metadata": {
  "kernelspec": {
   "display_name": "Python 3.10.7 64-bit",
   "language": "python",
   "name": "python3"
  },
  "language_info": {
   "codemirror_mode": {
    "name": "ipython",
    "version": 3
   },
   "file_extension": ".py",
   "mimetype": "text/x-python",
   "name": "python",
   "nbconvert_exporter": "python",
   "pygments_lexer": "ipython3",
   "version": "3.10.7"
  },
  "orig_nbformat": 4,
  "vscode": {
   "interpreter": {
    "hash": "d9301f351715a867d1bc8fb08501c60e58ca81704bf7ff03478c999d7c5e9338"
   }
  }
 },
 "nbformat": 4,
 "nbformat_minor": 2
}
